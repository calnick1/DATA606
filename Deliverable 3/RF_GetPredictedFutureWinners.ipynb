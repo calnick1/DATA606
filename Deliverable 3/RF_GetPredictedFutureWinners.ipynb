{
 "cells": [
  {
   "cell_type": "markdown",
   "metadata": {},
   "source": [
    "# Import necessary libraries and dataset"
   ]
  },
  {
   "cell_type": "code",
   "execution_count": 29,
   "metadata": {},
   "outputs": [],
   "source": [
    "import numpy as np\n",
    "import pandas as pd\n",
    "from sklearn.model_selection import train_test_split\n",
    "from sklearn.impute import SimpleImputer\n",
    "\n",
    "from sklearn import preprocessing\n",
    "le = preprocessing.LabelEncoder()"
   ]
  },
  {
   "cell_type": "code",
   "execution_count": 59,
   "metadata": {},
   "outputs": [],
   "source": [
    "# NOTE: Make sure that the outcome column is labeled 'target' in the data file\n",
    "features = pd.read_excel(r'C:\\Users\\calomeri\\OneDrive - ICMA-RC\\Documents\\Capstone\\Model_V5\\FullTrainingSet\\ClassifierReady\\PiotroskyTraining_ClassifierReady.xlsx', header=0, parse_dates=[0])\n",
    "features = features[features.Fscore > 8]\n",
    "# features.head()\n"
   ]
  },
  {
   "cell_type": "code",
   "execution_count": 60,
   "metadata": {},
   "outputs": [],
   "source": [
    "features = features.dropna()\n",
    "\n",
    "# Labels are the values we want to predict\n",
    "labels = np.array(features['Outperform'])\n",
    "int_labels = labels"
   ]
  },
  {
   "cell_type": "code",
   "execution_count": 61,
   "metadata": {},
   "outputs": [],
   "source": [
    "# Remove the labels from the features\n",
    "# axis 1 refers to the columns\n",
    "features = features.drop('Outperform', axis=1)\n",
    "features = features.drop(columns=['Unnamed: 0', 'Quarter Date','Security', 'Name', 'Sector', 'ClosingPrice', 'StartingPrice', 'OneYearPrice', 'TwoYearPrice', 'OneYearReturn', 'TwoYearReturn', 'Underperform'])\n",
    "\n",
    "feature_list = list(features.columns)"
   ]
  },
  {
   "cell_type": "code",
   "execution_count": 62,
   "metadata": {},
   "outputs": [],
   "source": [
    "\n",
    "features =features.iloc[np.random.permutation(len(features))]\n",
    "features = features.reset_index(drop=True)\n",
    "\n",
    "# Convert to numpy array\n",
    "features = np.array(features)"
   ]
  },
  {
   "cell_type": "code",
   "execution_count": 64,
   "metadata": {},
   "outputs": [
    {
     "data": {
      "text/plain": [
       "array([[ 1.        ,  1.        ,  1.        , ...,  9.        ,\n",
       "         5.67638056,  0.55980084],\n",
       "       [ 1.        ,  1.        ,  1.        , ...,  9.        ,\n",
       "         1.61890911,  0.04577068],\n",
       "       [ 1.        ,  1.        ,  1.        , ...,  9.        ,\n",
       "        12.5958486 ,  0.31767588],\n",
       "       ...,\n",
       "       [ 1.        ,  1.        ,  1.        , ...,  9.        ,\n",
       "        12.0826302 ,  0.16080157],\n",
       "       [ 1.        ,  1.        ,  1.        , ...,  9.        ,\n",
       "        28.51851107,  0.93626103],\n",
       "       [ 1.        ,  1.        ,  1.        , ...,  9.        ,\n",
       "        22.17824959,  0.70153051]])"
      ]
     },
     "execution_count": 64,
     "metadata": {},
     "output_type": "execute_result"
    }
   ],
   "source": [
    "features"
   ]
  },
  {
   "cell_type": "code",
   "execution_count": 34,
   "metadata": {},
   "outputs": [],
   "source": [
    "# Using Skicit-learn to split data into training and testing sets\n",
    "from sklearn.model_selection import train_test_split\n",
    "# Split the data into training and testing sets\n",
    "train_features, test_features, train_labels, test_labels = train_test_split(features, int_labels, test_size = 0.1, random_state = 42)"
   ]
  },
  {
   "cell_type": "code",
   "execution_count": 54,
   "metadata": {},
   "outputs": [
    {
     "data": {
      "text/plain": [
       "array([[ 1.        ,  1.        ,  1.        , ...,  9.        ,\n",
       "         8.34544617,  0.39039883],\n",
       "       [ 1.        ,  1.        ,  1.        , ...,  9.        ,\n",
       "         8.96270447,  0.36096273],\n",
       "       [ 1.        ,  1.        ,  1.        , ...,  9.        ,\n",
       "        11.39542848,  0.30218585],\n",
       "       ...,\n",
       "       [ 1.        ,  1.        ,  1.        , ...,  9.        ,\n",
       "         4.45975653,  0.07002287],\n",
       "       [ 1.        ,  1.        ,  1.        , ...,  9.        ,\n",
       "        12.0826302 ,  0.16080157],\n",
       "       [ 1.        ,  1.        ,  1.        , ...,  9.        ,\n",
       "         9.04345319,  0.35353609]])"
      ]
     },
     "execution_count": 54,
     "metadata": {},
     "output_type": "execute_result"
    }
   ],
   "source": [
    "features"
   ]
  },
  {
   "cell_type": "code",
   "execution_count": 35,
   "metadata": {},
   "outputs": [
    {
     "name": "stdout",
     "output_type": "stream",
     "text": [
      "Training Features Shape: (164, 12)\n",
      "Training Labels Shape: (164,)\n",
      "Testing Features Shape: (19, 12)\n",
      "Testing Labels Shape: (19,)\n"
     ]
    }
   ],
   "source": [
    "print('Training Features Shape:', train_features.shape)\n",
    "print('Training Labels Shape:', train_labels.shape)\n",
    "print('Testing Features Shape:', test_features.shape)\n",
    "print('Testing Labels Shape:', test_labels.shape)"
   ]
  },
  {
   "cell_type": "code",
   "execution_count": 36,
   "metadata": {},
   "outputs": [],
   "source": [
    "\n",
    "# Import the model we are using\n",
    "from sklearn.ensemble import RandomForestClassifier"
   ]
  },
  {
   "cell_type": "code",
   "execution_count": 37,
   "metadata": {},
   "outputs": [],
   "source": [
    "# Average CV score on the training set was: 0.5904761904761905\n",
    "rf = RandomForestClassifier(bootstrap=True, criterion=\"gini\", max_features=0.6500000000000001, min_samples_leaf=16, min_samples_split=4, n_estimators=100)"
   ]
  },
  {
   "cell_type": "code",
   "execution_count": 38,
   "metadata": {},
   "outputs": [],
   "source": [
    "# Train the model on training data\n",
    "rf.fit(train_features, train_labels);"
   ]
  },
  {
   "cell_type": "code",
   "execution_count": 39,
   "metadata": {},
   "outputs": [],
   "source": [
    "# Use the forest's predict method on the test data\n",
    "predictions = rf.predict(test_features)"
   ]
  },
  {
   "cell_type": "code",
   "execution_count": 53,
   "metadata": {},
   "outputs": [
    {
     "data": {
      "text/plain": [
       "array([1, 1, 1, 1, 1, 1, 1, 0, 0, 1, 1, 1, 1, 1, 1, 1, 0, 1, 1],\n",
       "      dtype=int64)"
      ]
     },
     "execution_count": 53,
     "metadata": {},
     "output_type": "execute_result"
    }
   ],
   "source": [
    "predictions"
   ]
  },
  {
   "cell_type": "markdown",
   "metadata": {},
   "source": [
    "## Accuracy"
   ]
  },
  {
   "cell_type": "code",
   "execution_count": 40,
   "metadata": {},
   "outputs": [
    {
     "name": "stdout",
     "output_type": "stream",
     "text": [
      "Accuracy: 0.6842105263157895\n"
     ]
    }
   ],
   "source": [
    "#Import scikit-learn metrics module for accuracy calculation\n",
    "from sklearn import metrics\n",
    "# Model Accuracy, how often is the classifier correct?\n",
    "print(\"Accuracy:\",metrics.accuracy_score(test_labels, predictions))"
   ]
  },
  {
   "cell_type": "markdown",
   "metadata": {},
   "source": [
    "## Salient Variables"
   ]
  },
  {
   "cell_type": "code",
   "execution_count": 41,
   "metadata": {},
   "outputs": [
    {
     "name": "stdout",
     "output_type": "stream",
     "text": [
      "Variable: BOOK_VAL_PER_SH      Importance: 0.54\n",
      "Variable: BM                   Importance: 0.46\n",
      "Variable: ROA                  Importance: 0.0\n",
      "Variable: CFO                  Importance: 0.0\n",
      "Variable: ROA_Change           Importance: 0.0\n",
      "Variable: Accrual              Importance: 0.0\n",
      "Variable: LT_Debt_To_Asset_change Importance: 0.0\n",
      "Variable: Current_Ratio_Change Importance: 0.0\n",
      "Variable: No_Shares_Change     Importance: 0.0\n",
      "Variable: Gross_Margin_Change  Importance: 0.0\n",
      "Variable: Asset_Turnover_Change Importance: 0.0\n",
      "Variable: Fscore               Importance: 0.0\n"
     ]
    }
   ],
   "source": [
    "# Get numerical feature importances\n",
    "importances = list(rf.feature_importances_)\n",
    "# List of tuples with variable and importance\n",
    "feature_importances = [(feature, round(importance, 2)) for feature, importance in zip(feature_list, importances)]\n",
    "# Sort the feature importances by most important first\n",
    "feature_importances = sorted(feature_importances, key = lambda x: x[1], reverse = True)\n",
    "# Print out the feature and importances \n",
    "[print('Variable: {:20} Importance: {}'.format(*pair)) for pair in feature_importances];"
   ]
  },
  {
   "cell_type": "code",
   "execution_count": 42,
   "metadata": {},
   "outputs": [
    {
     "data": {
      "image/png": "[encoded data removed]",
      "text/plain": [
       "<Figure size 432x288 with 1 Axes>"
      ]
     },
     "metadata": {},
     "output_type": "display_data"
    }
   ],
   "source": [
    "# Import matplotlib for plotting and use magic command for Jupyter Notebooks\n",
    "import matplotlib.pyplot as plt\n",
    "%matplotlib inline\n",
    "# Set the style\n",
    "plt.style.use('fivethirtyeight')\n",
    "# list of x locations for plotting\n",
    "x_values = list(range(len(importances)))\n",
    "# Make a bar chart\n",
    "plt.bar(x_values, importances, orientation = 'vertical')\n",
    "# Tick labels for x axis\n",
    "plt.xticks(x_values, feature_list, rotation='vertical')\n",
    "# Axis labels and title\n",
    "plt.ylabel('Importance'); plt.xlabel('Variable'); plt.title('Variable Importances');"
   ]
  },
  {
   "cell_type": "code",
   "execution_count": 43,
   "metadata": {},
   "outputs": [
    {
     "data": {
      "image/png": "[encoded data removed]",
      "text/plain": [
       "<Figure size 432x288 with 1 Axes>"
      ]
     },
     "metadata": {},
     "output_type": "display_data"
    }
   ],
   "source": [
    "# List of features sorted from most to least important\n",
    "sorted_importances = [importance[1] for importance in feature_importances]\n",
    "sorted_features = [importance[0] for importance in feature_importances]\n",
    "# Cumulative importances\n",
    "cumulative_importances = np.cumsum(sorted_importances)\n",
    "# Make a line graph\n",
    "plt.plot(x_values, cumulative_importances, 'g-')\n",
    "# Draw line at 95% of importance retained\n",
    "plt.hlines(y = 0.95, xmin=0, xmax=len(sorted_importances), color = 'r', linestyles = 'dashed')\n",
    "# Format x ticks and labels\n",
    "plt.xticks(x_values, sorted_features, rotation = 'vertical')\n",
    "# Axis labels and title\n",
    "plt.xlabel('Variable'); plt.ylabel('Cumulative Importance'); plt.title('Cumulative Importances');"
   ]
  },
  {
   "cell_type": "code",
   "execution_count": null,
   "metadata": {},
   "outputs": [],
   "source": []
  },
  {
   "cell_type": "code",
   "execution_count": 44,
   "metadata": {},
   "outputs": [
    {
     "name": "stdout",
     "output_type": "stream",
     "text": [
      "Number of features for above 90% importance: 2\n"
     ]
    }
   ],
   "source": [
    "# Find number of features for cumulative importance of 95%\n",
    "# Add 1 because Python is zero-indexed\n",
    "print('Number of features for above 90% importance:', np.where(cumulative_importances > 0.9)[0][0] + 1)"
   ]
  },
  {
   "cell_type": "code",
   "execution_count": 45,
   "metadata": {},
   "outputs": [
    {
     "name": "stdout",
     "output_type": "stream",
     "text": [
      "Important train features shape: (164, 2)\n",
      "Important test features shape: (19, 2)\n"
     ]
    }
   ],
   "source": [
    "# Extract the names of the most important features\n",
    "important_feature_names = [feature[0] for feature in feature_importances[0:2]]\n",
    "# Find the columns of the most important features\n",
    "important_indices = [feature_list.index(feature) for feature in important_feature_names]\n",
    "# Create training and testing sets with only the important features\n",
    "important_train_features = train_features[:, important_indices]\n",
    "important_test_features = test_features[:, important_indices]\n",
    "# Analyze shape of training and test set\n",
    "print('Important train features shape:', important_train_features.shape)\n",
    "print('Important test features shape:', important_test_features.shape)"
   ]
  },
  {
   "cell_type": "code",
   "execution_count": 46,
   "metadata": {},
   "outputs": [
    {
     "name": "stdout",
     "output_type": "stream",
     "text": [
      "Average absolute error: 0.37 degrees.\n"
     ]
    }
   ],
   "source": [
    "# Train the expanded model on only the important features\n",
    "rf.fit(important_train_features, train_labels);\n",
    "# Make predictions on test data\n",
    "predictions2 = rf.predict(important_test_features)\n",
    "# Performance metrics\n",
    "errors = abs(predictions2 - test_labels)\n",
    "print('Average absolute error:', round(np.mean(errors), 2), 'degrees.')\n"
   ]
  },
  {
   "cell_type": "code",
   "execution_count": 47,
   "metadata": {},
   "outputs": [
    {
     "name": "stdout",
     "output_type": "stream",
     "text": [
      "Accuracy: 0.631578947368421\n"
     ]
    }
   ],
   "source": [
    "#Import scikit-learn metrics module for accuracy calculation\n",
    "from sklearn import metrics\n",
    "# Model Accuracy, how often is the classifier correct?\n",
    "print(\"Accuracy:\",metrics.accuracy_score(test_labels, predictions2))"
   ]
  },
  {
   "cell_type": "markdown",
   "metadata": {},
   "source": [
    "# Try on Test Data - 2018 Quarterly Data"
   ]
  },
  {
   "cell_type": "code",
   "execution_count": 48,
   "metadata": {},
   "outputs": [],
   "source": [
    "# NOTE: Make sure that the outcome column is labeled 'target' in the data file\n",
    "Test = pd.read_excel(r'C:\\Users\\calomeri\\OneDrive - ICMA-RC\\Documents\\Capstone\\Model_V5\\FullTestSet\\ClassifierReady\\PiotroskyTest_ClassifierReady.xlsx', header=0, parse_dates=[0])\n",
    "Test = Test[Test.Fscore > 8]\n",
    "Test = Test[['Outperform','BOOK_VAL_PER_SH', 'BM']]\n"
   ]
  },
  {
   "cell_type": "code",
   "execution_count": 49,
   "metadata": {},
   "outputs": [],
   "source": [
    "# whatsgood = whatsgood.replace([np.inf, -np.inf], np.nan)\n",
    "Test = Test.dropna()\n",
    "# whatsgood[\"target\"].replace({\"Underperform\": 1, \"Outperform\": 0}, inplace=True)\n",
    "Test[\"Outperform\"] = pd.to_numeric(Test[\"Outperform\"])\n",
    "Test =Test.iloc[np.random.permutation(len(Test))]\n",
    "Test=Test.reset_index(drop=True)"
   ]
  },
  {
   "cell_type": "code",
   "execution_count": 50,
   "metadata": {},
   "outputs": [],
   "source": [
    "Findout_class  = Test['Outperform'].values"
   ]
  },
  {
   "cell_type": "code",
   "execution_count": null,
   "metadata": {},
   "outputs": [],
   "source": []
  },
  {
   "cell_type": "code",
   "execution_count": 51,
   "metadata": {},
   "outputs": [
    {
     "data": {
      "text/plain": [
       "(6, 56)"
      ]
     },
     "execution_count": 51,
     "metadata": {},
     "output_type": "execute_result"
    }
   ],
   "source": [
    "training_indices, validation_indices = training_indices, testing_indices = train_test_split(Test.index,\n",
    "                                                                                            stratify = Findout_class,\n",
    "                                                                                            train_size=0.1, test_size=0.9)\n",
    "\n",
    "training_indices.size, validation_indices.size"
   ]
  },
  {
   "cell_type": "markdown",
   "metadata": {},
   "source": [
    "## Performance on Test Data"
   ]
  },
  {
   "cell_type": "code",
   "execution_count": 52,
   "metadata": {},
   "outputs": [
    {
     "data": {
      "text/plain": [
       "0.5714285714285714"
      ]
     },
     "execution_count": 52,
     "metadata": {},
     "output_type": "execute_result"
    }
   ],
   "source": [
    "rf.score(Test.drop('Outperform',axis=1).loc[validation_indices].values,\n",
    "           Test.loc[validation_indices, 'Outperform'].values)"
   ]
  },
  {
   "cell_type": "markdown",
   "metadata": {},
   "source": [
    "# Use Random Forest to predict which securities 200Q4 could outperform their peers 1 year from now"
   ]
  },
  {
   "cell_type": "code",
   "execution_count": 85,
   "metadata": {},
   "outputs": [],
   "source": [
    "# NOTE: Make sure that the outcome column is labeled 'target' in the data file\n",
    "df = pd.read_excel(r\"C:\\Users\\calomeri\\OneDrive - ICMA-RC\\Documents\\Capstone\\Model_V5\\2020Q2\\Piotrosky2020_Analysis.xlsx\")\n",
    "df = df[df.Fscore > 8]\n",
    "df_2020QF = df\n",
    "df_2020QF = df_2020QF[['Outperform','BOOK_VAL_PER_SH', 'BM']]\n",
    "# features.head()\n",
    "\n",
    "# df_2020QF = df_2020QF.dropna()\n",
    "\n",
    "# Labels are the values we want to predict\n",
    "labels2020Q4 = np.array(df_2020QF['Outperform'])\n",
    "int_labels2020Q4 = labels2020Q4\n",
    "\n",
    "df_2020QF = df_2020QF.drop('Outperform', axis=1)\n",
    "# df_2020QF = df_2020QF.drop(columns=['Quarter Date','Security', 'Name', 'Sector', 'ClosingPrice', 'StartingPrice', 'OneYearPrice', 'TwoYearPrice', 'OneYearReturn', 'TwoYearReturn', 'Underperform'])\n",
    "\n",
    "feature_list2020Q4 = list(df_2020QF.columns)\n",
    "\n",
    "df_2020QF =df_2020QF.iloc[np.random.permutation(len(df_2020QF))]\n",
    "df_2020QF = df_2020QF.reset_index(drop=True)\n",
    "\n",
    "# Convert to numpy array\n",
    "df_2020QF = np.array(df_2020QF)"
   ]
  },
  {
   "cell_type": "code",
   "execution_count": 86,
   "metadata": {},
   "outputs": [
    {
     "data": {
      "text/plain": [
       "array([[ 3.06638998e+01,  4.10823952e-01],\n",
       "       [ 1.45831371e+01,  2.69260285e-01],\n",
       "       [ 1.59915268e+01,  2.02066297e-01],\n",
       "       [ 2.26687500e+01,  5.20749581e-02],\n",
       "       [ 1.61312794e+01,  2.60897290e-01],\n",
       "       [ 3.86407767e+00,  5.37050406e-02],\n",
       "       [ 5.26576154e+00,  2.46063623e-01],\n",
       "       [ 1.85756777e+01,  6.29683989e-01],\n",
       "       [-4.90023474e-01, -3.46673841e-03],\n",
       "       [ 2.96885965e+00,  2.33034509e-01],\n",
       "       [ 1.14212432e+01,  3.00638147e-01],\n",
       "       [ 3.76168611e+01,  6.34455408e-01],\n",
       "       [ 3.84571743e+00,  4.07817330e-01],\n",
       "       [ 1.81371961e+01,  4.97181910e-02],\n",
       "       [ 1.76490966e+01,  1.75264117e+00],\n",
       "       [ 7.22697056e+00,  4.13324024e-02],\n",
       "       [ 1.43506504e+02,  2.81363235e-01],\n",
       "       [ 1.62790179e+01,  3.09958451e-01]])"
      ]
     },
     "execution_count": 86,
     "metadata": {},
     "output_type": "execute_result"
    }
   ],
   "source": [
    "df_2020QF"
   ]
  },
  {
   "cell_type": "code",
   "execution_count": 87,
   "metadata": {},
   "outputs": [
    {
     "data": {
      "text/html": [
       "<div>\n",
       "<style scoped>\n",
       "    .dataframe tbody tr th:only-of-type {\n",
       "        vertical-align: middle;\n",
       "    }\n",
       "\n",
       "    .dataframe tbody tr th {\n",
       "        vertical-align: top;\n",
       "    }\n",
       "\n",
       "    .dataframe thead th {\n",
       "        text-align: right;\n",
       "    }\n",
       "</style>\n",
       "<table border=\"1\" class=\"dataframe\">\n",
       "  <thead>\n",
       "    <tr style=\"text-align: right;\">\n",
       "      <th></th>\n",
       "      <th>Quarter Date</th>\n",
       "      <th>Security</th>\n",
       "      <th>Name</th>\n",
       "      <th>Sector</th>\n",
       "      <th>ROA</th>\n",
       "      <th>CFO</th>\n",
       "      <th>ROA_Change</th>\n",
       "      <th>Accrual</th>\n",
       "      <th>LT_Debt_To_Asset_change</th>\n",
       "      <th>Current_Ratio_Change</th>\n",
       "      <th>...</th>\n",
       "      <th>BOOK_VAL_PER_SH</th>\n",
       "      <th>ClosingPrice</th>\n",
       "      <th>BM</th>\n",
       "      <th>StartingPrice</th>\n",
       "      <th>OneYearPrice</th>\n",
       "      <th>TwoYearPrice</th>\n",
       "      <th>OneYearReturn</th>\n",
       "      <th>TwoYearReturn</th>\n",
       "      <th>Outperform</th>\n",
       "      <th>Underperform</th>\n",
       "    </tr>\n",
       "  </thead>\n",
       "  <tbody>\n",
       "    <tr>\n",
       "      <th>12</th>\n",
       "      <td>2020-06-30</td>\n",
       "      <td>AAPL UW Equity</td>\n",
       "      <td>Apple Inc</td>\n",
       "      <td>Technology</td>\n",
       "      <td>1.0</td>\n",
       "      <td>1.0</td>\n",
       "      <td>1.0</td>\n",
       "      <td>1.0</td>\n",
       "      <td>1.0</td>\n",
       "      <td>1.0</td>\n",
       "      <td>...</td>\n",
       "      <td>18.137196</td>\n",
       "      <td>364.80</td>\n",
       "      <td>0.049718</td>\n",
       "      <td>364.80</td>\n",
       "      <td>NaN</td>\n",
       "      <td>NaN</td>\n",
       "      <td>NaN</td>\n",
       "      <td>NaN</td>\n",
       "      <td>NaN</td>\n",
       "      <td>NaN</td>\n",
       "    </tr>\n",
       "    <tr>\n",
       "      <th>45</th>\n",
       "      <td>2020-06-30</td>\n",
       "      <td>ADBE UW Equity</td>\n",
       "      <td>Adobe Inc</td>\n",
       "      <td>Technology</td>\n",
       "      <td>1.0</td>\n",
       "      <td>1.0</td>\n",
       "      <td>1.0</td>\n",
       "      <td>1.0</td>\n",
       "      <td>1.0</td>\n",
       "      <td>1.0</td>\n",
       "      <td>...</td>\n",
       "      <td>22.668750</td>\n",
       "      <td>435.31</td>\n",
       "      <td>0.052075</td>\n",
       "      <td>435.31</td>\n",
       "      <td>NaN</td>\n",
       "      <td>NaN</td>\n",
       "      <td>NaN</td>\n",
       "      <td>NaN</td>\n",
       "      <td>NaN</td>\n",
       "      <td>NaN</td>\n",
       "    </tr>\n",
       "    <tr>\n",
       "      <th>443</th>\n",
       "      <td>2020-06-30</td>\n",
       "      <td>BZH UN Equity</td>\n",
       "      <td>Beazer Homes USA Inc</td>\n",
       "      <td>Consumer, Cyclical</td>\n",
       "      <td>1.0</td>\n",
       "      <td>1.0</td>\n",
       "      <td>1.0</td>\n",
       "      <td>1.0</td>\n",
       "      <td>1.0</td>\n",
       "      <td>1.0</td>\n",
       "      <td>...</td>\n",
       "      <td>17.649097</td>\n",
       "      <td>10.07</td>\n",
       "      <td>1.752641</td>\n",
       "      <td>10.07</td>\n",
       "      <td>NaN</td>\n",
       "      <td>NaN</td>\n",
       "      <td>NaN</td>\n",
       "      <td>NaN</td>\n",
       "      <td>NaN</td>\n",
       "      <td>NaN</td>\n",
       "    </tr>\n",
       "    <tr>\n",
       "      <th>558</th>\n",
       "      <td>2020-06-30</td>\n",
       "      <td>CHTR UW Equity</td>\n",
       "      <td>Charter Communications Inc</td>\n",
       "      <td>Communications</td>\n",
       "      <td>1.0</td>\n",
       "      <td>1.0</td>\n",
       "      <td>1.0</td>\n",
       "      <td>1.0</td>\n",
       "      <td>1.0</td>\n",
       "      <td>1.0</td>\n",
       "      <td>...</td>\n",
       "      <td>143.506504</td>\n",
       "      <td>510.04</td>\n",
       "      <td>0.281363</td>\n",
       "      <td>510.04</td>\n",
       "      <td>NaN</td>\n",
       "      <td>NaN</td>\n",
       "      <td>NaN</td>\n",
       "      <td>NaN</td>\n",
       "      <td>NaN</td>\n",
       "      <td>NaN</td>\n",
       "    </tr>\n",
       "    <tr>\n",
       "      <th>563</th>\n",
       "      <td>2020-06-30</td>\n",
       "      <td>CIEN UN Equity</td>\n",
       "      <td>Ciena Corp</td>\n",
       "      <td>Communications</td>\n",
       "      <td>1.0</td>\n",
       "      <td>1.0</td>\n",
       "      <td>1.0</td>\n",
       "      <td>1.0</td>\n",
       "      <td>1.0</td>\n",
       "      <td>1.0</td>\n",
       "      <td>...</td>\n",
       "      <td>14.583137</td>\n",
       "      <td>54.16</td>\n",
       "      <td>0.269260</td>\n",
       "      <td>54.16</td>\n",
       "      <td>NaN</td>\n",
       "      <td>NaN</td>\n",
       "      <td>NaN</td>\n",
       "      <td>NaN</td>\n",
       "      <td>NaN</td>\n",
       "      <td>NaN</td>\n",
       "    </tr>\n",
       "    <tr>\n",
       "      <th>833</th>\n",
       "      <td>2020-06-30</td>\n",
       "      <td>DVA UN Equity</td>\n",
       "      <td>DaVita Inc</td>\n",
       "      <td>Consumer, Non-cyclical</td>\n",
       "      <td>1.0</td>\n",
       "      <td>1.0</td>\n",
       "      <td>1.0</td>\n",
       "      <td>1.0</td>\n",
       "      <td>1.0</td>\n",
       "      <td>1.0</td>\n",
       "      <td>...</td>\n",
       "      <td>15.991527</td>\n",
       "      <td>79.14</td>\n",
       "      <td>0.202066</td>\n",
       "      <td>79.14</td>\n",
       "      <td>NaN</td>\n",
       "      <td>NaN</td>\n",
       "      <td>NaN</td>\n",
       "      <td>NaN</td>\n",
       "      <td>NaN</td>\n",
       "      <td>NaN</td>\n",
       "    </tr>\n",
       "    <tr>\n",
       "      <th>954</th>\n",
       "      <td>2020-06-30</td>\n",
       "      <td>EVRG UN Equity</td>\n",
       "      <td>Evergy Inc</td>\n",
       "      <td>Utilities</td>\n",
       "      <td>1.0</td>\n",
       "      <td>1.0</td>\n",
       "      <td>1.0</td>\n",
       "      <td>1.0</td>\n",
       "      <td>1.0</td>\n",
       "      <td>1.0</td>\n",
       "      <td>...</td>\n",
       "      <td>37.616861</td>\n",
       "      <td>59.29</td>\n",
       "      <td>0.634455</td>\n",
       "      <td>59.29</td>\n",
       "      <td>NaN</td>\n",
       "      <td>NaN</td>\n",
       "      <td>NaN</td>\n",
       "      <td>NaN</td>\n",
       "      <td>NaN</td>\n",
       "      <td>NaN</td>\n",
       "    </tr>\n",
       "    <tr>\n",
       "      <th>992</th>\n",
       "      <td>2020-06-30</td>\n",
       "      <td>FC UN Equity</td>\n",
       "      <td>Franklin Covey Co</td>\n",
       "      <td>Consumer, Non-cyclical</td>\n",
       "      <td>1.0</td>\n",
       "      <td>1.0</td>\n",
       "      <td>1.0</td>\n",
       "      <td>1.0</td>\n",
       "      <td>1.0</td>\n",
       "      <td>1.0</td>\n",
       "      <td>...</td>\n",
       "      <td>5.265762</td>\n",
       "      <td>21.40</td>\n",
       "      <td>0.246064</td>\n",
       "      <td>21.40</td>\n",
       "      <td>NaN</td>\n",
       "      <td>NaN</td>\n",
       "      <td>NaN</td>\n",
       "      <td>NaN</td>\n",
       "      <td>NaN</td>\n",
       "      <td>NaN</td>\n",
       "    </tr>\n",
       "    <tr>\n",
       "      <th>1008</th>\n",
       "      <td>2020-06-30</td>\n",
       "      <td>FELE UW Equity</td>\n",
       "      <td>Franklin Electric Co Inc</td>\n",
       "      <td>Industrial</td>\n",
       "      <td>1.0</td>\n",
       "      <td>1.0</td>\n",
       "      <td>1.0</td>\n",
       "      <td>1.0</td>\n",
       "      <td>1.0</td>\n",
       "      <td>1.0</td>\n",
       "      <td>...</td>\n",
       "      <td>16.279018</td>\n",
       "      <td>52.52</td>\n",
       "      <td>0.309958</td>\n",
       "      <td>52.52</td>\n",
       "      <td>NaN</td>\n",
       "      <td>NaN</td>\n",
       "      <td>NaN</td>\n",
       "      <td>NaN</td>\n",
       "      <td>NaN</td>\n",
       "      <td>NaN</td>\n",
       "    </tr>\n",
       "    <tr>\n",
       "      <th>1427</th>\n",
       "      <td>2020-06-30</td>\n",
       "      <td>ITW UN Equity</td>\n",
       "      <td>Illinois Tool Works Inc</td>\n",
       "      <td>Industrial</td>\n",
       "      <td>1.0</td>\n",
       "      <td>1.0</td>\n",
       "      <td>1.0</td>\n",
       "      <td>1.0</td>\n",
       "      <td>1.0</td>\n",
       "      <td>1.0</td>\n",
       "      <td>...</td>\n",
       "      <td>7.226971</td>\n",
       "      <td>174.85</td>\n",
       "      <td>0.041332</td>\n",
       "      <td>174.85</td>\n",
       "      <td>NaN</td>\n",
       "      <td>NaN</td>\n",
       "      <td>NaN</td>\n",
       "      <td>NaN</td>\n",
       "      <td>NaN</td>\n",
       "      <td>NaN</td>\n",
       "    </tr>\n",
       "    <tr>\n",
       "      <th>1488</th>\n",
       "      <td>2020-06-30</td>\n",
       "      <td>KMB UN Equity</td>\n",
       "      <td>Kimberly-Clark Corp</td>\n",
       "      <td>Consumer, Non-cyclical</td>\n",
       "      <td>1.0</td>\n",
       "      <td>1.0</td>\n",
       "      <td>1.0</td>\n",
       "      <td>1.0</td>\n",
       "      <td>1.0</td>\n",
       "      <td>1.0</td>\n",
       "      <td>...</td>\n",
       "      <td>-0.490023</td>\n",
       "      <td>141.35</td>\n",
       "      <td>-0.003467</td>\n",
       "      <td>141.35</td>\n",
       "      <td>NaN</td>\n",
       "      <td>NaN</td>\n",
       "      <td>NaN</td>\n",
       "      <td>NaN</td>\n",
       "      <td>NaN</td>\n",
       "      <td>NaN</td>\n",
       "    </tr>\n",
       "    <tr>\n",
       "      <th>1701</th>\n",
       "      <td>2020-06-30</td>\n",
       "      <td>MINI UW Equity</td>\n",
       "      <td>Mobile Mini Inc</td>\n",
       "      <td>Consumer, Cyclical</td>\n",
       "      <td>1.0</td>\n",
       "      <td>1.0</td>\n",
       "      <td>1.0</td>\n",
       "      <td>1.0</td>\n",
       "      <td>1.0</td>\n",
       "      <td>1.0</td>\n",
       "      <td>...</td>\n",
       "      <td>18.575678</td>\n",
       "      <td>29.50</td>\n",
       "      <td>0.629684</td>\n",
       "      <td>29.50</td>\n",
       "      <td>NaN</td>\n",
       "      <td>NaN</td>\n",
       "      <td>NaN</td>\n",
       "      <td>NaN</td>\n",
       "      <td>NaN</td>\n",
       "      <td>NaN</td>\n",
       "    </tr>\n",
       "    <tr>\n",
       "      <th>1796</th>\n",
       "      <td>2020-06-30</td>\n",
       "      <td>MWA UN Equity</td>\n",
       "      <td>Mueller Water Products Inc</td>\n",
       "      <td>Industrial</td>\n",
       "      <td>1.0</td>\n",
       "      <td>1.0</td>\n",
       "      <td>1.0</td>\n",
       "      <td>1.0</td>\n",
       "      <td>1.0</td>\n",
       "      <td>1.0</td>\n",
       "      <td>...</td>\n",
       "      <td>3.845717</td>\n",
       "      <td>9.43</td>\n",
       "      <td>0.407817</td>\n",
       "      <td>9.43</td>\n",
       "      <td>NaN</td>\n",
       "      <td>NaN</td>\n",
       "      <td>NaN</td>\n",
       "      <td>NaN</td>\n",
       "      <td>NaN</td>\n",
       "      <td>NaN</td>\n",
       "    </tr>\n",
       "    <tr>\n",
       "      <th>1901</th>\n",
       "      <td>2020-06-30</td>\n",
       "      <td>NVEC UR Equity</td>\n",
       "      <td>NVE Corp</td>\n",
       "      <td>Industrial</td>\n",
       "      <td>1.0</td>\n",
       "      <td>1.0</td>\n",
       "      <td>1.0</td>\n",
       "      <td>1.0</td>\n",
       "      <td>1.0</td>\n",
       "      <td>1.0</td>\n",
       "      <td>...</td>\n",
       "      <td>16.131279</td>\n",
       "      <td>61.83</td>\n",
       "      <td>0.260897</td>\n",
       "      <td>61.83</td>\n",
       "      <td>NaN</td>\n",
       "      <td>NaN</td>\n",
       "      <td>NaN</td>\n",
       "      <td>NaN</td>\n",
       "      <td>NaN</td>\n",
       "      <td>NaN</td>\n",
       "    </tr>\n",
       "    <tr>\n",
       "      <th>1983</th>\n",
       "      <td>2020-06-30</td>\n",
       "      <td>OSIS UW Equity</td>\n",
       "      <td>OSI Systems Inc</td>\n",
       "      <td>Industrial</td>\n",
       "      <td>1.0</td>\n",
       "      <td>1.0</td>\n",
       "      <td>1.0</td>\n",
       "      <td>1.0</td>\n",
       "      <td>1.0</td>\n",
       "      <td>1.0</td>\n",
       "      <td>...</td>\n",
       "      <td>30.663900</td>\n",
       "      <td>74.64</td>\n",
       "      <td>0.410824</td>\n",
       "      <td>74.64</td>\n",
       "      <td>NaN</td>\n",
       "      <td>NaN</td>\n",
       "      <td>NaN</td>\n",
       "      <td>NaN</td>\n",
       "      <td>NaN</td>\n",
       "      <td>NaN</td>\n",
       "    </tr>\n",
       "    <tr>\n",
       "      <th>2110</th>\n",
       "      <td>2020-06-30</td>\n",
       "      <td>PNR UN Equity</td>\n",
       "      <td>Pentair PLC</td>\n",
       "      <td>Industrial</td>\n",
       "      <td>1.0</td>\n",
       "      <td>1.0</td>\n",
       "      <td>1.0</td>\n",
       "      <td>1.0</td>\n",
       "      <td>1.0</td>\n",
       "      <td>1.0</td>\n",
       "      <td>...</td>\n",
       "      <td>11.421243</td>\n",
       "      <td>37.99</td>\n",
       "      <td>0.300638</td>\n",
       "      <td>37.99</td>\n",
       "      <td>NaN</td>\n",
       "      <td>NaN</td>\n",
       "      <td>NaN</td>\n",
       "      <td>NaN</td>\n",
       "      <td>NaN</td>\n",
       "      <td>NaN</td>\n",
       "    </tr>\n",
       "    <tr>\n",
       "      <th>2631</th>\n",
       "      <td>2020-06-30</td>\n",
       "      <td>TPX UN Equity</td>\n",
       "      <td>Tempur Sealy International Inc</td>\n",
       "      <td>Consumer, Cyclical</td>\n",
       "      <td>1.0</td>\n",
       "      <td>1.0</td>\n",
       "      <td>1.0</td>\n",
       "      <td>1.0</td>\n",
       "      <td>1.0</td>\n",
       "      <td>1.0</td>\n",
       "      <td>...</td>\n",
       "      <td>3.864078</td>\n",
       "      <td>71.95</td>\n",
       "      <td>0.053705</td>\n",
       "      <td>71.95</td>\n",
       "      <td>NaN</td>\n",
       "      <td>NaN</td>\n",
       "      <td>NaN</td>\n",
       "      <td>NaN</td>\n",
       "      <td>NaN</td>\n",
       "      <td>NaN</td>\n",
       "    </tr>\n",
       "    <tr>\n",
       "      <th>2775</th>\n",
       "      <td>2020-06-30</td>\n",
       "      <td>VIAV UW Equity</td>\n",
       "      <td>Viavi Solutions Inc</td>\n",
       "      <td>Communications</td>\n",
       "      <td>1.0</td>\n",
       "      <td>1.0</td>\n",
       "      <td>1.0</td>\n",
       "      <td>1.0</td>\n",
       "      <td>1.0</td>\n",
       "      <td>1.0</td>\n",
       "      <td>...</td>\n",
       "      <td>2.968860</td>\n",
       "      <td>12.74</td>\n",
       "      <td>0.233035</td>\n",
       "      <td>12.74</td>\n",
       "      <td>NaN</td>\n",
       "      <td>NaN</td>\n",
       "      <td>NaN</td>\n",
       "      <td>NaN</td>\n",
       "      <td>NaN</td>\n",
       "      <td>NaN</td>\n",
       "    </tr>\n",
       "  </tbody>\n",
       "</table>\n",
       "<p>18 rows × 24 columns</p>\n",
       "</div>"
      ],
      "text/plain": [
       "     Quarter Date        Security                            Name  \\\n",
       "12     2020-06-30  AAPL UW Equity                       Apple Inc   \n",
       "45     2020-06-30  ADBE UW Equity                       Adobe Inc   \n",
       "443    2020-06-30   BZH UN Equity            Beazer Homes USA Inc   \n",
       "558    2020-06-30  CHTR UW Equity      Charter Communications Inc   \n",
       "563    2020-06-30  CIEN UN Equity                      Ciena Corp   \n",
       "833    2020-06-30   DVA UN Equity                      DaVita Inc   \n",
       "954    2020-06-30  EVRG UN Equity                      Evergy Inc   \n",
       "992    2020-06-30    FC UN Equity               Franklin Covey Co   \n",
       "1008   2020-06-30  FELE UW Equity        Franklin Electric Co Inc   \n",
       "1427   2020-06-30   ITW UN Equity         Illinois Tool Works Inc   \n",
       "1488   2020-06-30   KMB UN Equity             Kimberly-Clark Corp   \n",
       "1701   2020-06-30  MINI UW Equity                 Mobile Mini Inc   \n",
       "1796   2020-06-30   MWA UN Equity      Mueller Water Products Inc   \n",
       "1901   2020-06-30  NVEC UR Equity                        NVE Corp   \n",
       "1983   2020-06-30  OSIS UW Equity                 OSI Systems Inc   \n",
       "2110   2020-06-30   PNR UN Equity                     Pentair PLC   \n",
       "2631   2020-06-30   TPX UN Equity  Tempur Sealy International Inc   \n",
       "2775   2020-06-30  VIAV UW Equity             Viavi Solutions Inc   \n",
       "\n",
       "                      Sector  ROA  CFO  ROA_Change  Accrual  \\\n",
       "12                Technology  1.0  1.0         1.0      1.0   \n",
       "45                Technology  1.0  1.0         1.0      1.0   \n",
       "443       Consumer, Cyclical  1.0  1.0         1.0      1.0   \n",
       "558           Communications  1.0  1.0         1.0      1.0   \n",
       "563           Communications  1.0  1.0         1.0      1.0   \n",
       "833   Consumer, Non-cyclical  1.0  1.0         1.0      1.0   \n",
       "954                Utilities  1.0  1.0         1.0      1.0   \n",
       "992   Consumer, Non-cyclical  1.0  1.0         1.0      1.0   \n",
       "1008              Industrial  1.0  1.0         1.0      1.0   \n",
       "1427              Industrial  1.0  1.0         1.0      1.0   \n",
       "1488  Consumer, Non-cyclical  1.0  1.0         1.0      1.0   \n",
       "1701      Consumer, Cyclical  1.0  1.0         1.0      1.0   \n",
       "1796              Industrial  1.0  1.0         1.0      1.0   \n",
       "1901              Industrial  1.0  1.0         1.0      1.0   \n",
       "1983              Industrial  1.0  1.0         1.0      1.0   \n",
       "2110              Industrial  1.0  1.0         1.0      1.0   \n",
       "2631      Consumer, Cyclical  1.0  1.0         1.0      1.0   \n",
       "2775          Communications  1.0  1.0         1.0      1.0   \n",
       "\n",
       "      LT_Debt_To_Asset_change  Current_Ratio_Change  ...  BOOK_VAL_PER_SH  \\\n",
       "12                        1.0                   1.0  ...        18.137196   \n",
       "45                        1.0                   1.0  ...        22.668750   \n",
       "443                       1.0                   1.0  ...        17.649097   \n",
       "558                       1.0                   1.0  ...       143.506504   \n",
       "563                       1.0                   1.0  ...        14.583137   \n",
       "833                       1.0                   1.0  ...        15.991527   \n",
       "954                       1.0                   1.0  ...        37.616861   \n",
       "992                       1.0                   1.0  ...         5.265762   \n",
       "1008                      1.0                   1.0  ...        16.279018   \n",
       "1427                      1.0                   1.0  ...         7.226971   \n",
       "1488                      1.0                   1.0  ...        -0.490023   \n",
       "1701                      1.0                   1.0  ...        18.575678   \n",
       "1796                      1.0                   1.0  ...         3.845717   \n",
       "1901                      1.0                   1.0  ...        16.131279   \n",
       "1983                      1.0                   1.0  ...        30.663900   \n",
       "2110                      1.0                   1.0  ...        11.421243   \n",
       "2631                      1.0                   1.0  ...         3.864078   \n",
       "2775                      1.0                   1.0  ...         2.968860   \n",
       "\n",
       "      ClosingPrice        BM  StartingPrice  OneYearPrice  TwoYearPrice  \\\n",
       "12          364.80  0.049718         364.80           NaN           NaN   \n",
       "45          435.31  0.052075         435.31           NaN           NaN   \n",
       "443          10.07  1.752641          10.07           NaN           NaN   \n",
       "558         510.04  0.281363         510.04           NaN           NaN   \n",
       "563          54.16  0.269260          54.16           NaN           NaN   \n",
       "833          79.14  0.202066          79.14           NaN           NaN   \n",
       "954          59.29  0.634455          59.29           NaN           NaN   \n",
       "992          21.40  0.246064          21.40           NaN           NaN   \n",
       "1008         52.52  0.309958          52.52           NaN           NaN   \n",
       "1427        174.85  0.041332         174.85           NaN           NaN   \n",
       "1488        141.35 -0.003467         141.35           NaN           NaN   \n",
       "1701         29.50  0.629684          29.50           NaN           NaN   \n",
       "1796          9.43  0.407817           9.43           NaN           NaN   \n",
       "1901         61.83  0.260897          61.83           NaN           NaN   \n",
       "1983         74.64  0.410824          74.64           NaN           NaN   \n",
       "2110         37.99  0.300638          37.99           NaN           NaN   \n",
       "2631         71.95  0.053705          71.95           NaN           NaN   \n",
       "2775         12.74  0.233035          12.74           NaN           NaN   \n",
       "\n",
       "      OneYearReturn  TwoYearReturn  Outperform  Underperform  \n",
       "12              NaN            NaN         NaN           NaN  \n",
       "45              NaN            NaN         NaN           NaN  \n",
       "443             NaN            NaN         NaN           NaN  \n",
       "558             NaN            NaN         NaN           NaN  \n",
       "563             NaN            NaN         NaN           NaN  \n",
       "833             NaN            NaN         NaN           NaN  \n",
       "954             NaN            NaN         NaN           NaN  \n",
       "992             NaN            NaN         NaN           NaN  \n",
       "1008            NaN            NaN         NaN           NaN  \n",
       "1427            NaN            NaN         NaN           NaN  \n",
       "1488            NaN            NaN         NaN           NaN  \n",
       "1701            NaN            NaN         NaN           NaN  \n",
       "1796            NaN            NaN         NaN           NaN  \n",
       "1901            NaN            NaN         NaN           NaN  \n",
       "1983            NaN            NaN         NaN           NaN  \n",
       "2110            NaN            NaN         NaN           NaN  \n",
       "2631            NaN            NaN         NaN           NaN  \n",
       "2775            NaN            NaN         NaN           NaN  \n",
       "\n",
       "[18 rows x 24 columns]"
      ]
     },
     "execution_count": 87,
     "metadata": {},
     "output_type": "execute_result"
    }
   ],
   "source": []
  },
  {
   "cell_type": "code",
   "execution_count": 88,
   "metadata": {},
   "outputs": [],
   "source": [
    "# Use the forest's predict method on the test data\n",
    "predictions2020QF = rf.predict(df_2020QF)"
   ]
  },
  {
   "cell_type": "code",
   "execution_count": 89,
   "metadata": {},
   "outputs": [
    {
     "data": {
      "text/plain": [
       "array([1, 1, 1, 1, 1, 1, 1, 1, 1, 1, 1, 1, 0, 1, 1, 1, 1, 1], dtype=int64)"
      ]
     },
     "execution_count": 89,
     "metadata": {},
     "output_type": "execute_result"
    }
   ],
   "source": [
    "predictions2020QF"
   ]
  },
  {
   "cell_type": "code",
   "execution_count": 90,
   "metadata": {},
   "outputs": [
    {
     "data": {
      "text/plain": [
       "12      AAPL UW Equity\n",
       "45      ADBE UW Equity\n",
       "443      BZH UN Equity\n",
       "558     CHTR UW Equity\n",
       "563     CIEN UN Equity\n",
       "833      DVA UN Equity\n",
       "954     EVRG UN Equity\n",
       "992       FC UN Equity\n",
       "1008    FELE UW Equity\n",
       "1427     ITW UN Equity\n",
       "1488     KMB UN Equity\n",
       "1701    MINI UW Equity\n",
       "1796     MWA UN Equity\n",
       "1901    NVEC UR Equity\n",
       "1983    OSIS UW Equity\n",
       "2110     PNR UN Equity\n",
       "2631     TPX UN Equity\n",
       "2775    VIAV UW Equity\n",
       "Name: Security, dtype: object"
      ]
     },
     "execution_count": 90,
     "metadata": {},
     "output_type": "execute_result"
    }
   ],
   "source": [
    "df['Security'] # Looks like we have to get rid of MWA"
   ]
  },
  {
   "cell_type": "code",
   "execution_count": null,
   "metadata": {},
   "outputs": [],
   "source": []
  }
 ],
 "metadata": {
  "kernelspec": {
   "display_name": "Python 3",
   "language": "python",
   "name": "python3"
  },
  "language_info": {
   "codemirror_mode": {
    "name": "ipython",
    "version": 3
   },
   "file_extension": ".py",
   "mimetype": "text/x-python",
   "name": "python",
   "nbconvert_exporter": "python",
   "pygments_lexer": "ipython3",
   "version": "3.7.1"
  }
 },
 "nbformat": 4,
 "nbformat_minor": 2
}
