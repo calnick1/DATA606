{
 "cells": [
  {
   "cell_type": "markdown",
   "metadata": {},
   "source": [
    "\n",
    "# Import Necessary Libraries\n",
    "\n",
    "\n"
   ]
  },
  {
   "cell_type": "code",
   "execution_count": 50,
   "metadata": {},
   "outputs": [],
   "source": [
    "import pandas as pd\n",
    "import numpy as np\n",
    "import os\n",
    "import glob\n",
    "import shutil\n",
    "from pandas import ExcelWriter\n",
    "import matplotlib.pyplot as plt\n",
    "import seaborn as sns\n",
    "import warnings\n",
    "warnings.filterwarnings('ignore')\n",
    "\n",
    "\n",
    "from scipy import stats\n",
    "import matplotlib.pyplot as plt\n",
    "%matplotlib inline\n",
    "plt.style.use('ggplot')"
   ]
  },
  {
   "cell_type": "markdown",
   "metadata": {},
   "source": [
    "# Load the Quarterly Data that we will want to Use for EDA and Training"
   ]
  },
  {
   "cell_type": "code",
   "execution_count": 51,
   "metadata": {},
   "outputs": [
    {
     "name": "stdout",
     "output_type": "stream",
     "text": [
      "Reading file Piotrosky2007_Analysis.xlsx....\n",
      "Reading file Piotrosky2008Q1_Analysis.xlsx....\n",
      "Reading file Piotrosky2008Q2_Analysis.xlsx....\n",
      "Reading file Piotrosky2008Q3_Analysis.xlsx....\n",
      "Reading file Piotrosky2008Q4_Analysis.xlsx....\n",
      "Reading file Piotrosky2009Q1_Analysis.xlsx....\n",
      "Reading file Piotrosky2009Q2_Analysis.xlsx....\n",
      "Reading file Piotrosky2009Q3_Analysis.xlsx....\n",
      "Reading file Piotrosky2009Q4_Analysis.xlsx....\n",
      "Reading file Piotrosky2010Q1_Analysis.xlsx....\n",
      "Reading file Piotrosky2010Q2_Analysis.xlsx....\n",
      "Reading file Piotrosky2010Q3_Analysis.xlsx....\n",
      "Reading file Piotrosky2010Q4_Analysis.xlsx....\n"
     ]
    }
   ],
   "source": [
    "# change the current directory to specified directory \n",
    "os.chdir(r\"C:\\Desired Directory\\Model_V5\") \n",
    "cwd = os.getcwd()\n",
    "cwd\n",
    "\n",
    "Data_folder = \"./FullTrainingSet/\"\n",
    "file_list = os.listdir(Data_folder)\n",
    "file_list\n",
    "\n",
    "goodlist = [file for file in file_list if file.endswith(\".xlsx\")]\n",
    "goodlist\n",
    "\n",
    "# empy list of dataframes\n",
    "df_list = []\n",
    "\n",
    "# for every file in the cleaned flist\n",
    "for file in goodlist:\n",
    "    print(\"Reading file \" + file + \"....\")\n",
    "    # temporary d that reads every csv in this path and the file, following the column list criteria\n",
    "    df_tmp = pd.read_excel(Data_folder + file)\n",
    "    df_list.append(df_tmp)  # append all temporary datafames to list \n",
    "\n",
    "#combine all dataframes into 1 datafrmae\n",
    "df = pd.concat(df_list)"
   ]
  },
  {
   "cell_type": "code",
   "execution_count": 52,
   "metadata": {},
   "outputs": [
    {
     "data": {
      "text/html": [
       "<div>\n",
       "<style scoped>\n",
       "    .dataframe tbody tr th:only-of-type {\n",
       "        vertical-align: middle;\n",
       "    }\n",
       "\n",
       "    .dataframe tbody tr th {\n",
       "        vertical-align: top;\n",
       "    }\n",
       "\n",
       "    .dataframe thead th {\n",
       "        text-align: right;\n",
       "    }\n",
       "</style>\n",
       "<table border=\"1\" class=\"dataframe\">\n",
       "  <thead>\n",
       "    <tr style=\"text-align: right;\">\n",
       "      <th></th>\n",
       "      <th>Quarter Date</th>\n",
       "      <th>Security</th>\n",
       "      <th>Name</th>\n",
       "      <th>Sector</th>\n",
       "      <th>ROA</th>\n",
       "      <th>CFO</th>\n",
       "      <th>ROA_Change</th>\n",
       "      <th>Accrual</th>\n",
       "      <th>LT_Debt_To_Asset_change</th>\n",
       "      <th>Current_Ratio_Change</th>\n",
       "      <th>...</th>\n",
       "      <th>Asset_Turnover_Change</th>\n",
       "      <th>Fscore</th>\n",
       "      <th>BOOK_VAL_PER_SH</th>\n",
       "      <th>ClosingPrice</th>\n",
       "      <th>BM</th>\n",
       "      <th>StartingPrice</th>\n",
       "      <th>OneYearPrice</th>\n",
       "      <th>TwoYearPrice</th>\n",
       "      <th>OneYearReturn</th>\n",
       "      <th>TwoYearReturn</th>\n",
       "    </tr>\n",
       "  </thead>\n",
       "  <tbody>\n",
       "    <tr>\n",
       "      <th>0</th>\n",
       "      <td>2007-12-31</td>\n",
       "      <td>0111145D UN Equity</td>\n",
       "      <td>Nicor Inc</td>\n",
       "      <td>Utilities</td>\n",
       "      <td>1.0</td>\n",
       "      <td>1.0</td>\n",
       "      <td>1.0</td>\n",
       "      <td>1.0</td>\n",
       "      <td>0.0</td>\n",
       "      <td>1.0</td>\n",
       "      <td>...</td>\n",
       "      <td>0.0</td>\n",
       "      <td>6.0</td>\n",
       "      <td>20.139780</td>\n",
       "      <td>42.35</td>\n",
       "      <td>0.475556</td>\n",
       "      <td>42.32</td>\n",
       "      <td>34.96</td>\n",
       "      <td>40.66</td>\n",
       "      <td>-0.173913</td>\n",
       "      <td>-0.039225</td>\n",
       "    </tr>\n",
       "    <tr>\n",
       "      <th>2</th>\n",
       "      <td>2007-12-31</td>\n",
       "      <td>0167866D UN Equity</td>\n",
       "      <td>Petrohawk Energy Corp</td>\n",
       "      <td>Energy</td>\n",
       "      <td>1.0</td>\n",
       "      <td>1.0</td>\n",
       "      <td>0.0</td>\n",
       "      <td>1.0</td>\n",
       "      <td>1.0</td>\n",
       "      <td>0.0</td>\n",
       "      <td>...</td>\n",
       "      <td>1.0</td>\n",
       "      <td>5.0</td>\n",
       "      <td>11.743936</td>\n",
       "      <td>17.31</td>\n",
       "      <td>0.678448</td>\n",
       "      <td>15.97</td>\n",
       "      <td>19.73</td>\n",
       "      <td>23.58</td>\n",
       "      <td>0.235441</td>\n",
       "      <td>0.476518</td>\n",
       "    </tr>\n",
       "    <tr>\n",
       "      <th>3</th>\n",
       "      <td>2007-12-31</td>\n",
       "      <td>0202445Q UN Equity</td>\n",
       "      <td>EMD Millipore Corp</td>\n",
       "      <td>Consumer, Non-cyclical</td>\n",
       "      <td>1.0</td>\n",
       "      <td>1.0</td>\n",
       "      <td>0.0</td>\n",
       "      <td>1.0</td>\n",
       "      <td>1.0</td>\n",
       "      <td>1.0</td>\n",
       "      <td>...</td>\n",
       "      <td>0.0</td>\n",
       "      <td>5.0</td>\n",
       "      <td>19.866647</td>\n",
       "      <td>73.18</td>\n",
       "      <td>0.271476</td>\n",
       "      <td>66.08</td>\n",
       "      <td>55.43</td>\n",
       "      <td>70.03</td>\n",
       "      <td>-0.161168</td>\n",
       "      <td>0.059776</td>\n",
       "    </tr>\n",
       "    <tr>\n",
       "      <th>4</th>\n",
       "      <td>2007-12-31</td>\n",
       "      <td>0203524D UN Equity</td>\n",
       "      <td>National Semiconductor Corp</td>\n",
       "      <td>Technology</td>\n",
       "      <td>1.0</td>\n",
       "      <td>1.0</td>\n",
       "      <td>0.0</td>\n",
       "      <td>1.0</td>\n",
       "      <td>1.0</td>\n",
       "      <td>1.0</td>\n",
       "      <td>...</td>\n",
       "      <td>0.0</td>\n",
       "      <td>7.0</td>\n",
       "      <td>1.071070</td>\n",
       "      <td>22.64</td>\n",
       "      <td>0.047309</td>\n",
       "      <td>19.02</td>\n",
       "      <td>10.26</td>\n",
       "      <td>13.68</td>\n",
       "      <td>-0.460568</td>\n",
       "      <td>-0.280757</td>\n",
       "    </tr>\n",
       "    <tr>\n",
       "      <th>6</th>\n",
       "      <td>2007-12-31</td>\n",
       "      <td>0226226D UN Equity</td>\n",
       "      <td>Centex LLC</td>\n",
       "      <td>Consumer, Cyclical</td>\n",
       "      <td>0.0</td>\n",
       "      <td>1.0</td>\n",
       "      <td>0.0</td>\n",
       "      <td>1.0</td>\n",
       "      <td>1.0</td>\n",
       "      <td>1.0</td>\n",
       "      <td>...</td>\n",
       "      <td>1.0</td>\n",
       "      <td>5.0</td>\n",
       "      <td>34.261831</td>\n",
       "      <td>25.26</td>\n",
       "      <td>1.356367</td>\n",
       "      <td>26.67</td>\n",
       "      <td>8.32</td>\n",
       "      <td>NaN</td>\n",
       "      <td>-0.688039</td>\n",
       "      <td>NaN</td>\n",
       "    </tr>\n",
       "  </tbody>\n",
       "</table>\n",
       "<p>5 rows × 22 columns</p>\n",
       "</div>"
      ],
      "text/plain": [
       "  Quarter Date            Security                         Name  \\\n",
       "0   2007-12-31  0111145D UN Equity                    Nicor Inc   \n",
       "2   2007-12-31  0167866D UN Equity        Petrohawk Energy Corp   \n",
       "3   2007-12-31  0202445Q UN Equity           EMD Millipore Corp   \n",
       "4   2007-12-31  0203524D UN Equity  National Semiconductor Corp   \n",
       "6   2007-12-31  0226226D UN Equity                   Centex LLC   \n",
       "\n",
       "                   Sector  ROA  CFO  ROA_Change  Accrual  \\\n",
       "0               Utilities  1.0  1.0         1.0      1.0   \n",
       "2                  Energy  1.0  1.0         0.0      1.0   \n",
       "3  Consumer, Non-cyclical  1.0  1.0         0.0      1.0   \n",
       "4              Technology  1.0  1.0         0.0      1.0   \n",
       "6      Consumer, Cyclical  0.0  1.0         0.0      1.0   \n",
       "\n",
       "   LT_Debt_To_Asset_change  Current_Ratio_Change  ...  Asset_Turnover_Change  \\\n",
       "0                      0.0                   1.0  ...                    0.0   \n",
       "2                      1.0                   0.0  ...                    1.0   \n",
       "3                      1.0                   1.0  ...                    0.0   \n",
       "4                      1.0                   1.0  ...                    0.0   \n",
       "6                      1.0                   1.0  ...                    1.0   \n",
       "\n",
       "   Fscore  BOOK_VAL_PER_SH  ClosingPrice        BM  StartingPrice  \\\n",
       "0     6.0        20.139780         42.35  0.475556          42.32   \n",
       "2     5.0        11.743936         17.31  0.678448          15.97   \n",
       "3     5.0        19.866647         73.18  0.271476          66.08   \n",
       "4     7.0         1.071070         22.64  0.047309          19.02   \n",
       "6     5.0        34.261831         25.26  1.356367          26.67   \n",
       "\n",
       "   OneYearPrice  TwoYearPrice  OneYearReturn  TwoYearReturn  \n",
       "0         34.96         40.66      -0.173913      -0.039225  \n",
       "2         19.73         23.58       0.235441       0.476518  \n",
       "3         55.43         70.03      -0.161168       0.059776  \n",
       "4         10.26         13.68      -0.460568      -0.280757  \n",
       "6          8.32           NaN      -0.688039            NaN  \n",
       "\n",
       "[5 rows x 22 columns]"
      ]
     },
     "execution_count": 52,
     "metadata": {},
     "output_type": "execute_result"
    }
   ],
   "source": [
    "# Get rid of NA's we want complete rows of data\n",
    "\n",
    "df = df[df['OneYearReturn'].notna()]\n",
    "df = df[df['Fscore'].notna()]\n",
    "df = df[df['BM'].notna()]\n",
    "df.head()"
   ]
  },
  {
   "cell_type": "code",
   "execution_count": null,
   "metadata": {},
   "outputs": [],
   "source": []
  },
  {
   "cell_type": "code",
   "execution_count": 53,
   "metadata": {},
   "outputs": [],
   "source": [
    "# Parse dataframe into respective quarters so we can label the outperformers from the underperformers of each quarter\n",
    "\n",
    "df2007Q4 = df.loc[df['Quarter Date'] == '2007-12-31']\n",
    "df2008Q1 = df.loc[df['Quarter Date'] == '2008-03-31']\n",
    "df2008Q2 = df.loc[df['Quarter Date'] == '2008-06-30']\n",
    "df2008Q3 = df.loc[df['Quarter Date'] == '2008-09-30']\n",
    "df2008Q4 = df.loc[df['Quarter Date'] == '2008-12-31']\n",
    "df2009Q1 = df.loc[df['Quarter Date'] == '2009-03-31']\n",
    "df2009Q2 = df.loc[df['Quarter Date'] == '2009-06-30']\n",
    "df2009Q3 = df.loc[df['Quarter Date'] == '2009-09-30']\n",
    "df2009Q4 = df.loc[df['Quarter Date'] == '2009-12-31']\n",
    "df2010Q1 = df.loc[df['Quarter Date'] == '2010-03-31']\n",
    "df2010Q2 = df.loc[df['Quarter Date'] == '2010-06-30']\n",
    "df2010Q3 = df.loc[df['Quarter Date'] == '2010-09-30']\n",
    "df2010Q4 = df.loc[df['Quarter Date'] == '2010-12-31']\n"
   ]
  },
  {
   "cell_type": "markdown",
   "metadata": {},
   "source": [
    "# Find Median 1 year returns for all Russell 3000 Index. For those that beat the median these are labeled as outperform. Vice versa, label those as underperform"
   ]
  },
  {
   "cell_type": "code",
   "execution_count": 54,
   "metadata": {},
   "outputs": [
    {
     "data": {
      "text/plain": [
       "0.25   -0.637625\n",
       "0.50   -0.436081\n",
       "0.75   -0.238650\n",
       "Name: OneYearReturn, dtype: float64"
      ]
     },
     "execution_count": 54,
     "metadata": {},
     "output_type": "execute_result"
    }
   ],
   "source": [
    "df2007Q4.OneYearReturn.quantile([0.25,0.5,0.75])"
   ]
  },
  {
   "cell_type": "code",
   "execution_count": 55,
   "metadata": {},
   "outputs": [],
   "source": [
    "def ReturnTarget(row):\n",
    "    if row['OneYearReturn'] > -0.436081:\n",
    "        val = 1\n",
    "    else:\n",
    "        val = 0\n",
    "    return val\n",
    "\n",
    "def OutPerform(row):\n",
    "    if row['OneYearReturn'] > -0.436081:\n",
    "        val = 1\n",
    "    else:\n",
    "        val = 0\n",
    "    return val\n",
    "\n",
    "def UnderPerform(row):\n",
    "    if row['OneYearReturn'] < -0.436081:\n",
    "        val = 1\n",
    "    else:\n",
    "        val = 0\n",
    "    return val\n",
    "\n",
    "df2007Q4['Outperform'] = df2007Q4.apply(OutPerform, axis=1)\n",
    "df2007Q4['Underperform'] = df2007Q4.apply(UnderPerform, axis=1)"
   ]
  },
  {
   "cell_type": "code",
   "execution_count": 56,
   "metadata": {},
   "outputs": [
    {
     "data": {
      "text/plain": [
       "0.25   -0.537417\n",
       "0.50   -0.376123\n",
       "0.75   -0.205717\n",
       "Name: OneYearReturn, dtype: float64"
      ]
     },
     "execution_count": 56,
     "metadata": {},
     "output_type": "execute_result"
    }
   ],
   "source": [
    "df2008Q1.OneYearReturn.quantile([0.25,0.5,0.75])"
   ]
  },
  {
   "cell_type": "code",
   "execution_count": 57,
   "metadata": {},
   "outputs": [],
   "source": [
    "def OutPerform(row):\n",
    "    if row['OneYearReturn'] > -0.376123:\n",
    "        val = 1\n",
    "    else:\n",
    "        val = 0\n",
    "    return val\n",
    "\n",
    "def UnderPerform(row):\n",
    "    if row['OneYearReturn'] < -0.376123:\n",
    "        val = 1\n",
    "    else:\n",
    "        val = 0\n",
    "    return val\n",
    "\n",
    "df2008Q1['Outperform'] = df2008Q1.apply(OutPerform, axis=1)\n",
    "df2008Q1['Underperform'] = df2008Q1.apply(UnderPerform, axis=1)"
   ]
  },
  {
   "cell_type": "code",
   "execution_count": 58,
   "metadata": {},
   "outputs": [
    {
     "data": {
      "text/plain": [
       "0.25   -0.403677\n",
       "0.50   -0.203261\n",
       "0.75   -0.007560\n",
       "Name: OneYearReturn, dtype: float64"
      ]
     },
     "execution_count": 58,
     "metadata": {},
     "output_type": "execute_result"
    }
   ],
   "source": [
    "df2008Q2.OneYearReturn.quantile([0.25,0.5,0.75])"
   ]
  },
  {
   "cell_type": "code",
   "execution_count": 59,
   "metadata": {},
   "outputs": [],
   "source": [
    "def OutPerform(row):\n",
    "    if row['OneYearReturn'] > -0.203261:\n",
    "        val = 1\n",
    "    else:\n",
    "        val = 0\n",
    "    return val\n",
    "\n",
    "def UnderPerform(row):\n",
    "    if row['OneYearReturn'] < -0.203261:\n",
    "        val = 1\n",
    "    else:\n",
    "        val = 0\n",
    "    return val\n",
    "\n",
    "df2008Q2['Outperform'] = df2008Q2.apply(OutPerform, axis=1)\n",
    "df2008Q2['Underperform'] = df2008Q2.apply(UnderPerform, axis=1)"
   ]
  },
  {
   "cell_type": "code",
   "execution_count": 60,
   "metadata": {},
   "outputs": [
    {
     "data": {
      "text/plain": [
       "0.25   -0.083959\n",
       "0.50    0.121406\n",
       "0.75    0.409106\n",
       "Name: OneYearReturn, dtype: float64"
      ]
     },
     "execution_count": 60,
     "metadata": {},
     "output_type": "execute_result"
    }
   ],
   "source": [
    "df2008Q3.OneYearReturn.quantile([0.25,0.5,0.75])"
   ]
  },
  {
   "cell_type": "code",
   "execution_count": 61,
   "metadata": {},
   "outputs": [],
   "source": [
    "def OutPerform(row):\n",
    "    if row['OneYearReturn'] > 0.121406:\n",
    "        val = 1\n",
    "    else:\n",
    "        val = 0\n",
    "    return val\n",
    "\n",
    "def UnderPerform(row):\n",
    "    if row['OneYearReturn'] < 0.121406:\n",
    "        val = 1\n",
    "    else:\n",
    "        val = 0\n",
    "    return val\n",
    "\n",
    "df2008Q3['Outperform'] = df2008Q3.apply(OutPerform, axis=1)\n",
    "df2008Q3['Underperform'] = df2008Q3.apply(UnderPerform, axis=1)"
   ]
  },
  {
   "cell_type": "code",
   "execution_count": 62,
   "metadata": {},
   "outputs": [
    {
     "data": {
      "text/plain": [
       "0.25    0.126023\n",
       "0.50    0.430215\n",
       "0.75    0.930950\n",
       "Name: OneYearReturn, dtype: float64"
      ]
     },
     "execution_count": 62,
     "metadata": {},
     "output_type": "execute_result"
    }
   ],
   "source": [
    "df2008Q4.OneYearReturn.quantile([0.25,0.5,0.75])"
   ]
  },
  {
   "cell_type": "code",
   "execution_count": 63,
   "metadata": {},
   "outputs": [],
   "source": [
    "def OutPerform(row):\n",
    "    if row['OneYearReturn'] > 0.430215:\n",
    "        val = 1\n",
    "    else:\n",
    "        val = 0\n",
    "    return val\n",
    "\n",
    "def UnderPerform(row):\n",
    "    if row['OneYearReturn'] < 0.430215:\n",
    "        val = 1\n",
    "    else:\n",
    "        val = 0\n",
    "    return val\n",
    "\n",
    "\n",
    "df2008Q4['Outperform'] = df2008Q4.apply(OutPerform, axis=1)\n",
    "df2008Q4['Underperform'] = df2008Q4.apply(UnderPerform, axis=1)"
   ]
  },
  {
   "cell_type": "code",
   "execution_count": 64,
   "metadata": {},
   "outputs": [
    {
     "data": {
      "text/plain": [
       "0.25    0.215399\n",
       "0.50    0.455082\n",
       "0.75    0.817514\n",
       "Name: OneYearReturn, dtype: float64"
      ]
     },
     "execution_count": 64,
     "metadata": {},
     "output_type": "execute_result"
    }
   ],
   "source": [
    "df2009Q1.OneYearReturn.quantile([0.25,0.5,0.75])"
   ]
  },
  {
   "cell_type": "code",
   "execution_count": 65,
   "metadata": {},
   "outputs": [],
   "source": [
    "def OutPerform(row):\n",
    "    if row['OneYearReturn'] > 0.455082:\n",
    "        val = 1\n",
    "    else:\n",
    "        val = 0\n",
    "    return val\n",
    "\n",
    "def UnderPerform(row):\n",
    "    if row['OneYearReturn'] < 0.455082:\n",
    "        val = 1\n",
    "    else:\n",
    "        val = 0\n",
    "    return val\n",
    "\n",
    "\n",
    "df2009Q1['Outperform'] = df2009Q1.apply(OutPerform, axis=1)\n",
    "df2009Q1['Underperform'] = df2009Q1.apply(UnderPerform, axis=1)"
   ]
  },
  {
   "cell_type": "code",
   "execution_count": 66,
   "metadata": {},
   "outputs": [
    {
     "data": {
      "text/plain": [
       "0.25   -0.047968\n",
       "0.50    0.157341\n",
       "0.75    0.405056\n",
       "Name: OneYearReturn, dtype: float64"
      ]
     },
     "execution_count": 66,
     "metadata": {},
     "output_type": "execute_result"
    }
   ],
   "source": [
    "df2009Q2.OneYearReturn.quantile([0.25,0.5,0.75])"
   ]
  },
  {
   "cell_type": "code",
   "execution_count": 67,
   "metadata": {},
   "outputs": [],
   "source": [
    "def OutPerform(row):\n",
    "    if row['OneYearReturn'] > 0.157341:\n",
    "        val = 1\n",
    "    else:\n",
    "        val = 0\n",
    "    return val\n",
    "\n",
    "def UnderPerform(row):\n",
    "    if row['OneYearReturn'] < 0.157341:\n",
    "        val = 1\n",
    "    else:\n",
    "        val = 0\n",
    "    return val\n",
    "\n",
    "\n",
    "df2009Q2['Outperform'] = df2009Q2.apply(OutPerform, axis=1)\n",
    "df2009Q2['Underperform'] = df2009Q2.apply(UnderPerform, axis=1)"
   ]
  },
  {
   "cell_type": "code",
   "execution_count": 68,
   "metadata": {},
   "outputs": [
    {
     "data": {
      "text/plain": [
       "0.25   -0.057841\n",
       "0.50    0.137784\n",
       "0.75    0.360810\n",
       "Name: OneYearReturn, dtype: float64"
      ]
     },
     "execution_count": 68,
     "metadata": {},
     "output_type": "execute_result"
    }
   ],
   "source": [
    "\n",
    "df2009Q3.OneYearReturn.quantile([0.25,0.5,0.75])"
   ]
  },
  {
   "cell_type": "code",
   "execution_count": 69,
   "metadata": {},
   "outputs": [],
   "source": [
    "def OutPerform(row):\n",
    "    if row['OneYearReturn'] > 0.137784:\n",
    "        val = 1\n",
    "    else:\n",
    "        val = 0\n",
    "    return val\n",
    "\n",
    "def UnderPerform(row):\n",
    "    if row['OneYearReturn'] < 0.137784:\n",
    "        val = 1\n",
    "    else:\n",
    "        val = 0\n",
    "    return val\n",
    "\n",
    "\n",
    "df2009Q3['Outperform'] = df2009Q3.apply(OutPerform, axis=1)\n",
    "df2009Q3['Underperform'] = df2009Q3.apply(UnderPerform, axis=1)\n"
   ]
  },
  {
   "cell_type": "code",
   "execution_count": null,
   "metadata": {},
   "outputs": [],
   "source": []
  },
  {
   "cell_type": "code",
   "execution_count": 70,
   "metadata": {},
   "outputs": [
    {
     "data": {
      "text/plain": [
       "0.25    0.067786\n",
       "0.50    0.266372\n",
       "0.75    0.523461\n",
       "Name: OneYearReturn, dtype: float64"
      ]
     },
     "execution_count": 70,
     "metadata": {},
     "output_type": "execute_result"
    }
   ],
   "source": [
    "df2009Q4.OneYearReturn.quantile([0.25,0.5,0.75])"
   ]
  },
  {
   "cell_type": "code",
   "execution_count": 71,
   "metadata": {},
   "outputs": [],
   "source": [
    "def OutPerform(row):\n",
    "    if row['OneYearReturn'] > 0.266372:\n",
    "        val = 1\n",
    "    else:\n",
    "        val = 0\n",
    "    return val\n",
    "\n",
    "def UnderPerform(row):\n",
    "    if row['OneYearReturn'] < 0.266372:\n",
    "        val = 1\n",
    "    else:\n",
    "        val = 0\n",
    "    return val\n",
    "\n",
    "\n",
    "df2009Q4['Outperform'] = df2009Q4.apply(OutPerform, axis=1)\n",
    "df2009Q4['Underperform'] = df2009Q4.apply(UnderPerform, axis=1)"
   ]
  },
  {
   "cell_type": "code",
   "execution_count": 72,
   "metadata": {},
   "outputs": [
    {
     "data": {
      "text/plain": [
       "0.25   -0.047850\n",
       "0.50    0.150119\n",
       "0.75    0.371770\n",
       "Name: OneYearReturn, dtype: float64"
      ]
     },
     "execution_count": 72,
     "metadata": {},
     "output_type": "execute_result"
    }
   ],
   "source": [
    "df2010Q1.OneYearReturn.quantile([0.25,0.5,0.75])"
   ]
  },
  {
   "cell_type": "code",
   "execution_count": 73,
   "metadata": {},
   "outputs": [],
   "source": [
    "def OutPerform(row):\n",
    "    if row['OneYearReturn'] > 0.150119:\n",
    "        val = 1\n",
    "    else:\n",
    "        val = 0\n",
    "    return val\n",
    "\n",
    "def UnderPerform(row):\n",
    "    if row['OneYearReturn'] < 0.150119:\n",
    "        val = 1\n",
    "    else:\n",
    "        val = 0\n",
    "    return val\n",
    "\n",
    "\n",
    "df2010Q1['Outperform'] = df2010Q1.apply(OutPerform, axis=1)\n",
    "df2010Q1['Underperform'] = df2010Q1.apply(UnderPerform, axis=1)"
   ]
  },
  {
   "cell_type": "code",
   "execution_count": 74,
   "metadata": {},
   "outputs": [
    {
     "data": {
      "text/plain": [
       "0.25    0.126090\n",
       "0.50    0.361853\n",
       "0.75    0.638839\n",
       "Name: OneYearReturn, dtype: float64"
      ]
     },
     "execution_count": 74,
     "metadata": {},
     "output_type": "execute_result"
    }
   ],
   "source": [
    "df2010Q2.OneYearReturn.quantile([0.25,0.5,0.75])"
   ]
  },
  {
   "cell_type": "code",
   "execution_count": 75,
   "metadata": {},
   "outputs": [],
   "source": [
    "def OutPerform(row):\n",
    "    if row['OneYearReturn'] > 0.361853:\n",
    "        val = 1\n",
    "    else:\n",
    "        val = 0\n",
    "    return val\n",
    "\n",
    "def UnderPerform(row):\n",
    "    if row['OneYearReturn'] < 0.361853:\n",
    "        val = 1\n",
    "    else:\n",
    "        val = 0\n",
    "    return val\n",
    "\n",
    "\n",
    "df2010Q2['Outperform'] = df2010Q2.apply(OutPerform, axis=1)\n",
    "df2010Q2['Underperform'] = df2010Q2.apply(UnderPerform, axis=1)"
   ]
  },
  {
   "cell_type": "code",
   "execution_count": 76,
   "metadata": {},
   "outputs": [
    {
     "data": {
      "text/plain": [
       "0.25   -0.172122\n",
       "0.50    0.013396\n",
       "0.75    0.198962\n",
       "Name: OneYearReturn, dtype: float64"
      ]
     },
     "execution_count": 76,
     "metadata": {},
     "output_type": "execute_result"
    }
   ],
   "source": [
    "df2010Q3.OneYearReturn.quantile([0.25,0.5,0.75])"
   ]
  },
  {
   "cell_type": "code",
   "execution_count": 77,
   "metadata": {},
   "outputs": [],
   "source": [
    "def OutPerform(row):\n",
    "    if row['OneYearReturn'] > 0.013396:\n",
    "        val = 1\n",
    "    else:\n",
    "        val = 0\n",
    "    return val\n",
    "\n",
    "def UnderPerform(row):\n",
    "    if row['OneYearReturn'] < 0.013396:\n",
    "        val = 1\n",
    "    else:\n",
    "        val = 0\n",
    "    return val\n",
    "\n",
    "df2010Q3['Outperform'] = df2010Q3.apply(OutPerform, axis=1)\n",
    "df2010Q3['Underperform'] = df2010Q3.apply(UnderPerform, axis=1)"
   ]
  },
  {
   "cell_type": "code",
   "execution_count": 78,
   "metadata": {},
   "outputs": [
    {
     "data": {
      "text/plain": [
       "0.25   -0.194168\n",
       "0.50    0.004613\n",
       "0.75    0.169393\n",
       "Name: OneYearReturn, dtype: float64"
      ]
     },
     "execution_count": 78,
     "metadata": {},
     "output_type": "execute_result"
    }
   ],
   "source": [
    "df2010Q4.OneYearReturn.quantile([0.25,0.5,0.75])"
   ]
  },
  {
   "cell_type": "code",
   "execution_count": 79,
   "metadata": {},
   "outputs": [],
   "source": [
    "def OutPerform(row):\n",
    "    if row['OneYearReturn'] > 0.004613:\n",
    "        val = 1\n",
    "    else:\n",
    "        val = 0\n",
    "    return val\n",
    "\n",
    "def UnderPerform(row):\n",
    "    if row['OneYearReturn'] < 0.004613:\n",
    "        val = 1\n",
    "    else:\n",
    "        val = 0\n",
    "    return val\n",
    "\n",
    "df2010Q4['Outperform'] = df2010Q4.apply(OutPerform, axis=1)\n",
    "df2010Q4['Underperform'] = df2010Q4.apply(UnderPerform, axis=1)"
   ]
  },
  {
   "cell_type": "code",
   "execution_count": null,
   "metadata": {},
   "outputs": [],
   "source": []
  },
  {
   "cell_type": "markdown",
   "metadata": {},
   "source": [
    "# Append all quarterly dataframes back into one dataframe"
   ]
  },
  {
   "cell_type": "code",
   "execution_count": 80,
   "metadata": {},
   "outputs": [],
   "source": [
    "DF_GreatRecession = df2007Q4.append(df2008Q1)\n",
    "DF_GreatRecession = DF_GreatRecession.append(df2008Q2)\n",
    "DF_GreatRecession = DF_GreatRecession.append(df2008Q3)\n",
    "DF_GreatRecession = DF_GreatRecession.append(df2008Q4)\n",
    "DF_GreatRecession = DF_GreatRecession.append(df2009Q1)\n",
    "DF_GreatRecession = DF_GreatRecession.append(df2009Q2)\n",
    "\n",
    "DF_PostRecession = df2009Q3.append(df2009Q4)\n",
    "DF_PostRecession = DF_PostRecession.append(df2010Q1)\n",
    "DF_PostRecession = DF_PostRecession.append(df2010Q2)\n",
    "DF_PostRecession = DF_PostRecession.append(df2010Q3)\n",
    "DF_PostRecession = DF_PostRecession.append(df2010Q4)\n",
    "\n",
    "\n",
    "DF = DF_GreatRecession.append(DF_PostRecession)\n"
   ]
  },
  {
   "cell_type": "code",
   "execution_count": 81,
   "metadata": {},
   "outputs": [
    {
     "data": {
      "text/html": [
       "<div>\n",
       "<style scoped>\n",
       "    .dataframe tbody tr th:only-of-type {\n",
       "        vertical-align: middle;\n",
       "    }\n",
       "\n",
       "    .dataframe tbody tr th {\n",
       "        vertical-align: top;\n",
       "    }\n",
       "\n",
       "    .dataframe thead th {\n",
       "        text-align: right;\n",
       "    }\n",
       "</style>\n",
       "<table border=\"1\" class=\"dataframe\">\n",
       "  <thead>\n",
       "    <tr style=\"text-align: right;\">\n",
       "      <th></th>\n",
       "      <th>Quarter Date</th>\n",
       "      <th>Security</th>\n",
       "      <th>Name</th>\n",
       "      <th>Sector</th>\n",
       "      <th>ROA</th>\n",
       "      <th>CFO</th>\n",
       "      <th>ROA_Change</th>\n",
       "      <th>Accrual</th>\n",
       "      <th>LT_Debt_To_Asset_change</th>\n",
       "      <th>Current_Ratio_Change</th>\n",
       "      <th>...</th>\n",
       "      <th>BOOK_VAL_PER_SH</th>\n",
       "      <th>ClosingPrice</th>\n",
       "      <th>BM</th>\n",
       "      <th>StartingPrice</th>\n",
       "      <th>OneYearPrice</th>\n",
       "      <th>TwoYearPrice</th>\n",
       "      <th>OneYearReturn</th>\n",
       "      <th>TwoYearReturn</th>\n",
       "      <th>Outperform</th>\n",
       "      <th>Underperform</th>\n",
       "    </tr>\n",
       "  </thead>\n",
       "  <tbody>\n",
       "    <tr>\n",
       "      <th>0</th>\n",
       "      <td>2007-12-31</td>\n",
       "      <td>0111145D UN Equity</td>\n",
       "      <td>Nicor Inc</td>\n",
       "      <td>Utilities</td>\n",
       "      <td>1.0</td>\n",
       "      <td>1.0</td>\n",
       "      <td>1.0</td>\n",
       "      <td>1.0</td>\n",
       "      <td>0.0</td>\n",
       "      <td>1.0</td>\n",
       "      <td>...</td>\n",
       "      <td>20.139780</td>\n",
       "      <td>42.35</td>\n",
       "      <td>0.475556</td>\n",
       "      <td>42.32</td>\n",
       "      <td>34.96</td>\n",
       "      <td>40.66</td>\n",
       "      <td>-0.173913</td>\n",
       "      <td>-0.039225</td>\n",
       "      <td>1</td>\n",
       "      <td>0</td>\n",
       "    </tr>\n",
       "    <tr>\n",
       "      <th>2</th>\n",
       "      <td>2007-12-31</td>\n",
       "      <td>0167866D UN Equity</td>\n",
       "      <td>Petrohawk Energy Corp</td>\n",
       "      <td>Energy</td>\n",
       "      <td>1.0</td>\n",
       "      <td>1.0</td>\n",
       "      <td>0.0</td>\n",
       "      <td>1.0</td>\n",
       "      <td>1.0</td>\n",
       "      <td>0.0</td>\n",
       "      <td>...</td>\n",
       "      <td>11.743936</td>\n",
       "      <td>17.31</td>\n",
       "      <td>0.678448</td>\n",
       "      <td>15.97</td>\n",
       "      <td>19.73</td>\n",
       "      <td>23.58</td>\n",
       "      <td>0.235441</td>\n",
       "      <td>0.476518</td>\n",
       "      <td>1</td>\n",
       "      <td>0</td>\n",
       "    </tr>\n",
       "    <tr>\n",
       "      <th>3</th>\n",
       "      <td>2007-12-31</td>\n",
       "      <td>0202445Q UN Equity</td>\n",
       "      <td>EMD Millipore Corp</td>\n",
       "      <td>Consumer, Non-cyclical</td>\n",
       "      <td>1.0</td>\n",
       "      <td>1.0</td>\n",
       "      <td>0.0</td>\n",
       "      <td>1.0</td>\n",
       "      <td>1.0</td>\n",
       "      <td>1.0</td>\n",
       "      <td>...</td>\n",
       "      <td>19.866647</td>\n",
       "      <td>73.18</td>\n",
       "      <td>0.271476</td>\n",
       "      <td>66.08</td>\n",
       "      <td>55.43</td>\n",
       "      <td>70.03</td>\n",
       "      <td>-0.161168</td>\n",
       "      <td>0.059776</td>\n",
       "      <td>1</td>\n",
       "      <td>0</td>\n",
       "    </tr>\n",
       "    <tr>\n",
       "      <th>4</th>\n",
       "      <td>2007-12-31</td>\n",
       "      <td>0203524D UN Equity</td>\n",
       "      <td>National Semiconductor Corp</td>\n",
       "      <td>Technology</td>\n",
       "      <td>1.0</td>\n",
       "      <td>1.0</td>\n",
       "      <td>0.0</td>\n",
       "      <td>1.0</td>\n",
       "      <td>1.0</td>\n",
       "      <td>1.0</td>\n",
       "      <td>...</td>\n",
       "      <td>1.071070</td>\n",
       "      <td>22.64</td>\n",
       "      <td>0.047309</td>\n",
       "      <td>19.02</td>\n",
       "      <td>10.26</td>\n",
       "      <td>13.68</td>\n",
       "      <td>-0.460568</td>\n",
       "      <td>-0.280757</td>\n",
       "      <td>0</td>\n",
       "      <td>1</td>\n",
       "    </tr>\n",
       "    <tr>\n",
       "      <th>6</th>\n",
       "      <td>2007-12-31</td>\n",
       "      <td>0226226D UN Equity</td>\n",
       "      <td>Centex LLC</td>\n",
       "      <td>Consumer, Cyclical</td>\n",
       "      <td>0.0</td>\n",
       "      <td>1.0</td>\n",
       "      <td>0.0</td>\n",
       "      <td>1.0</td>\n",
       "      <td>1.0</td>\n",
       "      <td>1.0</td>\n",
       "      <td>...</td>\n",
       "      <td>34.261831</td>\n",
       "      <td>25.26</td>\n",
       "      <td>1.356367</td>\n",
       "      <td>26.67</td>\n",
       "      <td>8.32</td>\n",
       "      <td>NaN</td>\n",
       "      <td>-0.688039</td>\n",
       "      <td>NaN</td>\n",
       "      <td>0</td>\n",
       "      <td>1</td>\n",
       "    </tr>\n",
       "    <tr>\n",
       "      <th>...</th>\n",
       "      <td>...</td>\n",
       "      <td>...</td>\n",
       "      <td>...</td>\n",
       "      <td>...</td>\n",
       "      <td>...</td>\n",
       "      <td>...</td>\n",
       "      <td>...</td>\n",
       "      <td>...</td>\n",
       "      <td>...</td>\n",
       "      <td>...</td>\n",
       "      <td>...</td>\n",
       "      <td>...</td>\n",
       "      <td>...</td>\n",
       "      <td>...</td>\n",
       "      <td>...</td>\n",
       "      <td>...</td>\n",
       "      <td>...</td>\n",
       "      <td>...</td>\n",
       "      <td>...</td>\n",
       "      <td>...</td>\n",
       "      <td>...</td>\n",
       "    </tr>\n",
       "    <tr>\n",
       "      <th>2914</th>\n",
       "      <td>2009-06-30</td>\n",
       "      <td>ZOLT UW Equity</td>\n",
       "      <td>Zoltek Cos Inc</td>\n",
       "      <td>Basic Materials</td>\n",
       "      <td>1.0</td>\n",
       "      <td>1.0</td>\n",
       "      <td>0.0</td>\n",
       "      <td>1.0</td>\n",
       "      <td>0.0</td>\n",
       "      <td>1.0</td>\n",
       "      <td>...</td>\n",
       "      <td>8.420147</td>\n",
       "      <td>9.72</td>\n",
       "      <td>0.866270</td>\n",
       "      <td>9.83</td>\n",
       "      <td>8.71</td>\n",
       "      <td>10.70</td>\n",
       "      <td>-0.113937</td>\n",
       "      <td>0.088505</td>\n",
       "      <td>0</td>\n",
       "      <td>1</td>\n",
       "    </tr>\n",
       "    <tr>\n",
       "      <th>2915</th>\n",
       "      <td>2009-06-30</td>\n",
       "      <td>ZQKSQ UN Equity</td>\n",
       "      <td>Boardriders Inc</td>\n",
       "      <td>Consumer, Cyclical</td>\n",
       "      <td>0.0</td>\n",
       "      <td>0.0</td>\n",
       "      <td>1.0</td>\n",
       "      <td>1.0</td>\n",
       "      <td>1.0</td>\n",
       "      <td>0.0</td>\n",
       "      <td>...</td>\n",
       "      <td>3.017776</td>\n",
       "      <td>1.85</td>\n",
       "      <td>1.631230</td>\n",
       "      <td>1.97</td>\n",
       "      <td>4.11</td>\n",
       "      <td>4.87</td>\n",
       "      <td>1.086294</td>\n",
       "      <td>1.472081</td>\n",
       "      <td>1</td>\n",
       "      <td>0</td>\n",
       "    </tr>\n",
       "    <tr>\n",
       "      <th>2916</th>\n",
       "      <td>2009-06-30</td>\n",
       "      <td>ZRAN UW Equity</td>\n",
       "      <td>Zoran Corp</td>\n",
       "      <td>Technology</td>\n",
       "      <td>0.0</td>\n",
       "      <td>1.0</td>\n",
       "      <td>0.0</td>\n",
       "      <td>1.0</td>\n",
       "      <td>0.0</td>\n",
       "      <td>1.0</td>\n",
       "      <td>...</td>\n",
       "      <td>9.008825</td>\n",
       "      <td>10.90</td>\n",
       "      <td>0.826498</td>\n",
       "      <td>11.42</td>\n",
       "      <td>9.31</td>\n",
       "      <td>8.56</td>\n",
       "      <td>-0.184764</td>\n",
       "      <td>-0.250438</td>\n",
       "      <td>0</td>\n",
       "      <td>1</td>\n",
       "    </tr>\n",
       "    <tr>\n",
       "      <th>2917</th>\n",
       "      <td>2009-06-30</td>\n",
       "      <td>ZUMZ UW Equity</td>\n",
       "      <td>Zumiez Inc</td>\n",
       "      <td>Consumer, Cyclical</td>\n",
       "      <td>1.0</td>\n",
       "      <td>1.0</td>\n",
       "      <td>0.0</td>\n",
       "      <td>1.0</td>\n",
       "      <td>0.0</td>\n",
       "      <td>1.0</td>\n",
       "      <td>...</td>\n",
       "      <td>5.893035</td>\n",
       "      <td>8.01</td>\n",
       "      <td>0.735710</td>\n",
       "      <td>8.37</td>\n",
       "      <td>16.43</td>\n",
       "      <td>25.73</td>\n",
       "      <td>0.962963</td>\n",
       "      <td>2.074074</td>\n",
       "      <td>1</td>\n",
       "      <td>0</td>\n",
       "    </tr>\n",
       "    <tr>\n",
       "      <th>2918</th>\n",
       "      <td>2009-06-30</td>\n",
       "      <td>ZZ UN Equity</td>\n",
       "      <td>Sealy Corp</td>\n",
       "      <td>Consumer, Cyclical</td>\n",
       "      <td>0.0</td>\n",
       "      <td>1.0</td>\n",
       "      <td>0.0</td>\n",
       "      <td>1.0</td>\n",
       "      <td>1.0</td>\n",
       "      <td>1.0</td>\n",
       "      <td>...</td>\n",
       "      <td>-2.501455</td>\n",
       "      <td>1.96</td>\n",
       "      <td>-1.276252</td>\n",
       "      <td>1.90</td>\n",
       "      <td>2.63</td>\n",
       "      <td>2.54</td>\n",
       "      <td>0.384211</td>\n",
       "      <td>0.336842</td>\n",
       "      <td>1</td>\n",
       "      <td>0</td>\n",
       "    </tr>\n",
       "  </tbody>\n",
       "</table>\n",
       "<p>12275 rows × 24 columns</p>\n",
       "</div>"
      ],
      "text/plain": [
       "     Quarter Date            Security                         Name  \\\n",
       "0      2007-12-31  0111145D UN Equity                    Nicor Inc   \n",
       "2      2007-12-31  0167866D UN Equity        Petrohawk Energy Corp   \n",
       "3      2007-12-31  0202445Q UN Equity           EMD Millipore Corp   \n",
       "4      2007-12-31  0203524D UN Equity  National Semiconductor Corp   \n",
       "6      2007-12-31  0226226D UN Equity                   Centex LLC   \n",
       "...           ...                 ...                          ...   \n",
       "2914   2009-06-30      ZOLT UW Equity               Zoltek Cos Inc   \n",
       "2915   2009-06-30     ZQKSQ UN Equity              Boardriders Inc   \n",
       "2916   2009-06-30      ZRAN UW Equity                   Zoran Corp   \n",
       "2917   2009-06-30      ZUMZ UW Equity                   Zumiez Inc   \n",
       "2918   2009-06-30        ZZ UN Equity                   Sealy Corp   \n",
       "\n",
       "                      Sector  ROA  CFO  ROA_Change  Accrual  \\\n",
       "0                  Utilities  1.0  1.0         1.0      1.0   \n",
       "2                     Energy  1.0  1.0         0.0      1.0   \n",
       "3     Consumer, Non-cyclical  1.0  1.0         0.0      1.0   \n",
       "4                 Technology  1.0  1.0         0.0      1.0   \n",
       "6         Consumer, Cyclical  0.0  1.0         0.0      1.0   \n",
       "...                      ...  ...  ...         ...      ...   \n",
       "2914         Basic Materials  1.0  1.0         0.0      1.0   \n",
       "2915      Consumer, Cyclical  0.0  0.0         1.0      1.0   \n",
       "2916              Technology  0.0  1.0         0.0      1.0   \n",
       "2917      Consumer, Cyclical  1.0  1.0         0.0      1.0   \n",
       "2918      Consumer, Cyclical  0.0  1.0         0.0      1.0   \n",
       "\n",
       "      LT_Debt_To_Asset_change  Current_Ratio_Change  ...  BOOK_VAL_PER_SH  \\\n",
       "0                         0.0                   1.0  ...        20.139780   \n",
       "2                         1.0                   0.0  ...        11.743936   \n",
       "3                         1.0                   1.0  ...        19.866647   \n",
       "4                         1.0                   1.0  ...         1.071070   \n",
       "6                         1.0                   1.0  ...        34.261831   \n",
       "...                       ...                   ...  ...              ...   \n",
       "2914                      0.0                   1.0  ...         8.420147   \n",
       "2915                      1.0                   0.0  ...         3.017776   \n",
       "2916                      0.0                   1.0  ...         9.008825   \n",
       "2917                      0.0                   1.0  ...         5.893035   \n",
       "2918                      1.0                   1.0  ...        -2.501455   \n",
       "\n",
       "      ClosingPrice        BM  StartingPrice  OneYearPrice  TwoYearPrice  \\\n",
       "0            42.35  0.475556          42.32         34.96         40.66   \n",
       "2            17.31  0.678448          15.97         19.73         23.58   \n",
       "3            73.18  0.271476          66.08         55.43         70.03   \n",
       "4            22.64  0.047309          19.02         10.26         13.68   \n",
       "6            25.26  1.356367          26.67          8.32           NaN   \n",
       "...            ...       ...            ...           ...           ...   \n",
       "2914          9.72  0.866270           9.83          8.71         10.70   \n",
       "2915          1.85  1.631230           1.97          4.11          4.87   \n",
       "2916         10.90  0.826498          11.42          9.31          8.56   \n",
       "2917          8.01  0.735710           8.37         16.43         25.73   \n",
       "2918          1.96 -1.276252           1.90          2.63          2.54   \n",
       "\n",
       "      OneYearReturn  TwoYearReturn  Outperform  Underperform  \n",
       "0         -0.173913      -0.039225           1             0  \n",
       "2          0.235441       0.476518           1             0  \n",
       "3         -0.161168       0.059776           1             0  \n",
       "4         -0.460568      -0.280757           0             1  \n",
       "6         -0.688039            NaN           0             1  \n",
       "...             ...            ...         ...           ...  \n",
       "2914      -0.113937       0.088505           0             1  \n",
       "2915       1.086294       1.472081           1             0  \n",
       "2916      -0.184764      -0.250438           0             1  \n",
       "2917       0.962963       2.074074           1             0  \n",
       "2918       0.384211       0.336842           1             0  \n",
       "\n",
       "[12275 rows x 24 columns]"
      ]
     },
     "execution_count": 81,
     "metadata": {},
     "output_type": "execute_result"
    }
   ],
   "source": [
    "DF_GreatRecession"
   ]
  },
  {
   "cell_type": "code",
   "execution_count": null,
   "metadata": {},
   "outputs": [],
   "source": []
  },
  {
   "cell_type": "code",
   "execution_count": 82,
   "metadata": {},
   "outputs": [
    {
     "data": {
      "text/html": [
       "<div>\n",
       "<style scoped>\n",
       "    .dataframe tbody tr th:only-of-type {\n",
       "        vertical-align: middle;\n",
       "    }\n",
       "\n",
       "    .dataframe tbody tr th {\n",
       "        vertical-align: top;\n",
       "    }\n",
       "\n",
       "    .dataframe thead th {\n",
       "        text-align: right;\n",
       "    }\n",
       "</style>\n",
       "<table border=\"1\" class=\"dataframe\">\n",
       "  <thead>\n",
       "    <tr style=\"text-align: right;\">\n",
       "      <th></th>\n",
       "      <th>Quarter Date</th>\n",
       "      <th>Security</th>\n",
       "      <th>Name</th>\n",
       "      <th>Sector</th>\n",
       "      <th>ROA</th>\n",
       "      <th>CFO</th>\n",
       "      <th>ROA_Change</th>\n",
       "      <th>Accrual</th>\n",
       "      <th>LT_Debt_To_Asset_change</th>\n",
       "      <th>Current_Ratio_Change</th>\n",
       "      <th>...</th>\n",
       "      <th>BOOK_VAL_PER_SH</th>\n",
       "      <th>ClosingPrice</th>\n",
       "      <th>BM</th>\n",
       "      <th>StartingPrice</th>\n",
       "      <th>OneYearPrice</th>\n",
       "      <th>TwoYearPrice</th>\n",
       "      <th>OneYearReturn</th>\n",
       "      <th>TwoYearReturn</th>\n",
       "      <th>Outperform</th>\n",
       "      <th>Underperform</th>\n",
       "    </tr>\n",
       "  </thead>\n",
       "  <tbody>\n",
       "    <tr>\n",
       "      <th>2933</th>\n",
       "      <td>2010-12-31</td>\n",
       "      <td>ZBRA UW Equity</td>\n",
       "      <td>Zebra Technologies Corp</td>\n",
       "      <td>Technology</td>\n",
       "      <td>1.0</td>\n",
       "      <td>1.0</td>\n",
       "      <td>1.0</td>\n",
       "      <td>1.0</td>\n",
       "      <td>0.0</td>\n",
       "      <td>0.0</td>\n",
       "      <td>...</td>\n",
       "      <td>12.928368</td>\n",
       "      <td>37.99</td>\n",
       "      <td>0.340310</td>\n",
       "      <td>40.00</td>\n",
       "      <td>39.865</td>\n",
       "      <td>43.65</td>\n",
       "      <td>-0.003375</td>\n",
       "      <td>0.091250</td>\n",
       "      <td>0</td>\n",
       "      <td>1</td>\n",
       "    </tr>\n",
       "    <tr>\n",
       "      <th>2934</th>\n",
       "      <td>2010-12-31</td>\n",
       "      <td>ZEP UN Equity</td>\n",
       "      <td>Zep Inc</td>\n",
       "      <td>Basic Materials</td>\n",
       "      <td>1.0</td>\n",
       "      <td>1.0</td>\n",
       "      <td>1.0</td>\n",
       "      <td>1.0</td>\n",
       "      <td>1.0</td>\n",
       "      <td>0.0</td>\n",
       "      <td>...</td>\n",
       "      <td>5.726165</td>\n",
       "      <td>19.88</td>\n",
       "      <td>0.288036</td>\n",
       "      <td>18.42</td>\n",
       "      <td>16.760</td>\n",
       "      <td>14.80</td>\n",
       "      <td>-0.090119</td>\n",
       "      <td>-0.196526</td>\n",
       "      <td>0</td>\n",
       "      <td>1</td>\n",
       "    </tr>\n",
       "    <tr>\n",
       "      <th>2935</th>\n",
       "      <td>2010-12-31</td>\n",
       "      <td>ZEUS UW Equity</td>\n",
       "      <td>Olympic Steel Inc</td>\n",
       "      <td>Industrial</td>\n",
       "      <td>1.0</td>\n",
       "      <td>0.0</td>\n",
       "      <td>1.0</td>\n",
       "      <td>0.0</td>\n",
       "      <td>1.0</td>\n",
       "      <td>0.0</td>\n",
       "      <td>...</td>\n",
       "      <td>24.160614</td>\n",
       "      <td>28.68</td>\n",
       "      <td>0.842420</td>\n",
       "      <td>27.93</td>\n",
       "      <td>26.580</td>\n",
       "      <td>21.21</td>\n",
       "      <td>-0.048335</td>\n",
       "      <td>-0.240602</td>\n",
       "      <td>0</td>\n",
       "      <td>1</td>\n",
       "    </tr>\n",
       "    <tr>\n",
       "      <th>2936</th>\n",
       "      <td>2010-12-31</td>\n",
       "      <td>ZIGO UW Equity</td>\n",
       "      <td>Zygo Corp</td>\n",
       "      <td>Industrial</td>\n",
       "      <td>1.0</td>\n",
       "      <td>1.0</td>\n",
       "      <td>1.0</td>\n",
       "      <td>1.0</td>\n",
       "      <td>0.0</td>\n",
       "      <td>1.0</td>\n",
       "      <td>...</td>\n",
       "      <td>5.858562</td>\n",
       "      <td>12.23</td>\n",
       "      <td>0.479032</td>\n",
       "      <td>11.40</td>\n",
       "      <td>18.240</td>\n",
       "      <td>16.28</td>\n",
       "      <td>0.600000</td>\n",
       "      <td>0.428070</td>\n",
       "      <td>1</td>\n",
       "      <td>0</td>\n",
       "    </tr>\n",
       "    <tr>\n",
       "      <th>2937</th>\n",
       "      <td>2010-12-31</td>\n",
       "      <td>ZINCQ UW Equity</td>\n",
       "      <td>American Zinc Recycling LLC</td>\n",
       "      <td>Basic Materials</td>\n",
       "      <td>1.0</td>\n",
       "      <td>1.0</td>\n",
       "      <td>1.0</td>\n",
       "      <td>1.0</td>\n",
       "      <td>0.0</td>\n",
       "      <td>0.0</td>\n",
       "      <td>...</td>\n",
       "      <td>8.135893</td>\n",
       "      <td>13.04</td>\n",
       "      <td>0.623918</td>\n",
       "      <td>13.14</td>\n",
       "      <td>11.370</td>\n",
       "      <td>10.45</td>\n",
       "      <td>-0.134703</td>\n",
       "      <td>-0.204718</td>\n",
       "      <td>0</td>\n",
       "      <td>1</td>\n",
       "    </tr>\n",
       "    <tr>\n",
       "      <th>2940</th>\n",
       "      <td>2010-12-31</td>\n",
       "      <td>ZIXI UQ Equity</td>\n",
       "      <td>Zix Corp</td>\n",
       "      <td>Communications</td>\n",
       "      <td>1.0</td>\n",
       "      <td>1.0</td>\n",
       "      <td>1.0</td>\n",
       "      <td>1.0</td>\n",
       "      <td>0.0</td>\n",
       "      <td>1.0</td>\n",
       "      <td>...</td>\n",
       "      <td>0.070841</td>\n",
       "      <td>4.27</td>\n",
       "      <td>0.016590</td>\n",
       "      <td>4.62</td>\n",
       "      <td>3.180</td>\n",
       "      <td>3.36</td>\n",
       "      <td>-0.311688</td>\n",
       "      <td>-0.272727</td>\n",
       "      <td>0</td>\n",
       "      <td>1</td>\n",
       "    </tr>\n",
       "    <tr>\n",
       "      <th>2941</th>\n",
       "      <td>2010-12-31</td>\n",
       "      <td>ZOLL UW Equity</td>\n",
       "      <td>Zoll Medical Corp</td>\n",
       "      <td>Consumer, Non-cyclical</td>\n",
       "      <td>1.0</td>\n",
       "      <td>1.0</td>\n",
       "      <td>1.0</td>\n",
       "      <td>1.0</td>\n",
       "      <td>0.0</td>\n",
       "      <td>0.0</td>\n",
       "      <td>...</td>\n",
       "      <td>14.582310</td>\n",
       "      <td>37.23</td>\n",
       "      <td>0.391682</td>\n",
       "      <td>42.42</td>\n",
       "      <td>69.790</td>\n",
       "      <td>NaN</td>\n",
       "      <td>0.645215</td>\n",
       "      <td>NaN</td>\n",
       "      <td>1</td>\n",
       "      <td>0</td>\n",
       "    </tr>\n",
       "    <tr>\n",
       "      <th>2942</th>\n",
       "      <td>2010-12-31</td>\n",
       "      <td>ZOLT UW Equity</td>\n",
       "      <td>Zoltek Cos Inc</td>\n",
       "      <td>Basic Materials</td>\n",
       "      <td>0.0</td>\n",
       "      <td>1.0</td>\n",
       "      <td>0.0</td>\n",
       "      <td>1.0</td>\n",
       "      <td>0.0</td>\n",
       "      <td>1.0</td>\n",
       "      <td>...</td>\n",
       "      <td>8.511275</td>\n",
       "      <td>11.55</td>\n",
       "      <td>0.736907</td>\n",
       "      <td>11.63</td>\n",
       "      <td>8.840</td>\n",
       "      <td>7.47</td>\n",
       "      <td>-0.239897</td>\n",
       "      <td>-0.357696</td>\n",
       "      <td>0</td>\n",
       "      <td>1</td>\n",
       "    </tr>\n",
       "    <tr>\n",
       "      <th>2945</th>\n",
       "      <td>2010-12-31</td>\n",
       "      <td>ZUMZ UW Equity</td>\n",
       "      <td>Zumiez Inc</td>\n",
       "      <td>Consumer, Cyclical</td>\n",
       "      <td>1.0</td>\n",
       "      <td>1.0</td>\n",
       "      <td>1.0</td>\n",
       "      <td>1.0</td>\n",
       "      <td>0.0</td>\n",
       "      <td>0.0</td>\n",
       "      <td>...</td>\n",
       "      <td>6.798852</td>\n",
       "      <td>26.87</td>\n",
       "      <td>0.253028</td>\n",
       "      <td>24.25</td>\n",
       "      <td>29.370</td>\n",
       "      <td>21.11</td>\n",
       "      <td>0.211134</td>\n",
       "      <td>-0.129485</td>\n",
       "      <td>1</td>\n",
       "      <td>0</td>\n",
       "    </tr>\n",
       "    <tr>\n",
       "      <th>2947</th>\n",
       "      <td>2010-12-31</td>\n",
       "      <td>ZZ UN Equity</td>\n",
       "      <td>Sealy Corp</td>\n",
       "      <td>Consumer, Cyclical</td>\n",
       "      <td>0.0</td>\n",
       "      <td>1.0</td>\n",
       "      <td>1.0</td>\n",
       "      <td>1.0</td>\n",
       "      <td>1.0</td>\n",
       "      <td>1.0</td>\n",
       "      <td>...</td>\n",
       "      <td>-0.979010</td>\n",
       "      <td>2.92</td>\n",
       "      <td>-0.335278</td>\n",
       "      <td>2.69</td>\n",
       "      <td>1.450</td>\n",
       "      <td>2.18</td>\n",
       "      <td>-0.460967</td>\n",
       "      <td>-0.189591</td>\n",
       "      <td>0</td>\n",
       "      <td>1</td>\n",
       "    </tr>\n",
       "  </tbody>\n",
       "</table>\n",
       "<p>10 rows × 24 columns</p>\n",
       "</div>"
      ],
      "text/plain": [
       "     Quarter Date         Security                         Name  \\\n",
       "2933   2010-12-31   ZBRA UW Equity      Zebra Technologies Corp   \n",
       "2934   2010-12-31    ZEP UN Equity                      Zep Inc   \n",
       "2935   2010-12-31   ZEUS UW Equity            Olympic Steel Inc   \n",
       "2936   2010-12-31   ZIGO UW Equity                    Zygo Corp   \n",
       "2937   2010-12-31  ZINCQ UW Equity  American Zinc Recycling LLC   \n",
       "2940   2010-12-31   ZIXI UQ Equity                     Zix Corp   \n",
       "2941   2010-12-31   ZOLL UW Equity            Zoll Medical Corp   \n",
       "2942   2010-12-31   ZOLT UW Equity               Zoltek Cos Inc   \n",
       "2945   2010-12-31   ZUMZ UW Equity                   Zumiez Inc   \n",
       "2947   2010-12-31     ZZ UN Equity                   Sealy Corp   \n",
       "\n",
       "                      Sector  ROA  CFO  ROA_Change  Accrual  \\\n",
       "2933              Technology  1.0  1.0         1.0      1.0   \n",
       "2934         Basic Materials  1.0  1.0         1.0      1.0   \n",
       "2935              Industrial  1.0  0.0         1.0      0.0   \n",
       "2936              Industrial  1.0  1.0         1.0      1.0   \n",
       "2937         Basic Materials  1.0  1.0         1.0      1.0   \n",
       "2940          Communications  1.0  1.0         1.0      1.0   \n",
       "2941  Consumer, Non-cyclical  1.0  1.0         1.0      1.0   \n",
       "2942         Basic Materials  0.0  1.0         0.0      1.0   \n",
       "2945      Consumer, Cyclical  1.0  1.0         1.0      1.0   \n",
       "2947      Consumer, Cyclical  0.0  1.0         1.0      1.0   \n",
       "\n",
       "      LT_Debt_To_Asset_change  Current_Ratio_Change  ...  BOOK_VAL_PER_SH  \\\n",
       "2933                      0.0                   0.0  ...        12.928368   \n",
       "2934                      1.0                   0.0  ...         5.726165   \n",
       "2935                      1.0                   0.0  ...        24.160614   \n",
       "2936                      0.0                   1.0  ...         5.858562   \n",
       "2937                      0.0                   0.0  ...         8.135893   \n",
       "2940                      0.0                   1.0  ...         0.070841   \n",
       "2941                      0.0                   0.0  ...        14.582310   \n",
       "2942                      0.0                   1.0  ...         8.511275   \n",
       "2945                      0.0                   0.0  ...         6.798852   \n",
       "2947                      1.0                   1.0  ...        -0.979010   \n",
       "\n",
       "      ClosingPrice        BM  StartingPrice  OneYearPrice  TwoYearPrice  \\\n",
       "2933         37.99  0.340310          40.00        39.865         43.65   \n",
       "2934         19.88  0.288036          18.42        16.760         14.80   \n",
       "2935         28.68  0.842420          27.93        26.580         21.21   \n",
       "2936         12.23  0.479032          11.40        18.240         16.28   \n",
       "2937         13.04  0.623918          13.14        11.370         10.45   \n",
       "2940          4.27  0.016590           4.62         3.180          3.36   \n",
       "2941         37.23  0.391682          42.42        69.790           NaN   \n",
       "2942         11.55  0.736907          11.63         8.840          7.47   \n",
       "2945         26.87  0.253028          24.25        29.370         21.11   \n",
       "2947          2.92 -0.335278           2.69         1.450          2.18   \n",
       "\n",
       "      OneYearReturn  TwoYearReturn  Outperform  Underperform  \n",
       "2933      -0.003375       0.091250           0             1  \n",
       "2934      -0.090119      -0.196526           0             1  \n",
       "2935      -0.048335      -0.240602           0             1  \n",
       "2936       0.600000       0.428070           1             0  \n",
       "2937      -0.134703      -0.204718           0             1  \n",
       "2940      -0.311688      -0.272727           0             1  \n",
       "2941       0.645215            NaN           1             0  \n",
       "2942      -0.239897      -0.357696           0             1  \n",
       "2945       0.211134      -0.129485           1             0  \n",
       "2947      -0.460967      -0.189591           0             1  \n",
       "\n",
       "[10 rows x 24 columns]"
      ]
     },
     "execution_count": 82,
     "metadata": {},
     "output_type": "execute_result"
    }
   ],
   "source": [
    "# Investigate that all data was loaded\n",
    "DF[-10:]"
   ]
  },
  {
   "cell_type": "markdown",
   "metadata": {},
   "source": [
    "# Turn Quarterly Data into pivot tables for analysis"
   ]
  },
  {
   "cell_type": "markdown",
   "metadata": {},
   "source": [
    "## Piotrosky Screener Performance during the 2008 Great Recession"
   ]
  },
  {
   "cell_type": "code",
   "execution_count": 83,
   "metadata": {},
   "outputs": [],
   "source": [
    "pivoted_Recession = pd.pivot_table(DF_GreatRecession, index = 'Fscore', values = ['Underperform', 'Outperform' ], aggfunc='sum')\n",
    "pivoted_Recession = pd.DataFrame(pivoted_Recession.to_records())"
   ]
  },
  {
   "cell_type": "code",
   "execution_count": 84,
   "metadata": {},
   "outputs": [
    {
     "name": "stdout",
     "output_type": "stream",
     "text": [
      "   Fscore  Outperform  Underperform  % Outperformed  % Underperformed\n",
      "0     0.0           3             3            0.50              0.50\n",
      "1     1.0          44            53            0.45              0.55\n",
      "2     2.0         190           192            0.50              0.50\n",
      "3     3.0         539           542            0.50              0.50\n",
      "4     4.0        1201          1229            0.49              0.51\n",
      "5     5.0        1506          1453            0.51              0.49\n",
      "6     6.0        1441          1424            0.50              0.50\n",
      "7     7.0         850           874            0.49              0.51\n",
      "8     8.0         284           313            0.48              0.52\n",
      "9     9.0          79            55            0.59              0.41\n"
     ]
    }
   ],
   "source": [
    "table_Recession = pivoted_Recession\n",
    "table_Recession['% Outperformed'] = (table_Recession.Outperform / (table_Recession.Outperform + table_Recession.Underperform)).round(2)\n",
    "table_Recession['% Underperformed'] = (table_Recession.Underperform / (table_Recession.Outperform + table_Recession.Underperform)).round(2)\n",
    "print(table_Recession)"
   ]
  },
  {
   "cell_type": "markdown",
   "metadata": {},
   "source": [
    "Companies with a Piotrosky F-score of 9 during a recession, outperformed 59% of the time (1 year return)."
   ]
  },
  {
   "cell_type": "code",
   "execution_count": 85,
   "metadata": {},
   "outputs": [
    {
     "data": {
      "image/png": "[encoded data removed]",
      "text/plain": [
       "<Figure size 1080x576 with 1 Axes>"
      ]
     },
     "metadata": {},
     "output_type": "display_data"
    }
   ],
   "source": [
    "data = {\"Ouperform\":pivoted_Recession['Outperform'],\n",
    "\n",
    "        \"Underperform\":pivoted_Recession['Underperform']\n",
    "\n",
    "        };\n",
    "\n",
    "index     = pivoted_Recession['Fscore'];\n",
    "\n",
    "\n",
    "\n",
    "\n",
    "# Dictionary loaded into a DataFrame       \n",
    "\n",
    "dataFrame = pd.DataFrame(data=data, index=index);\n",
    "\n",
    "# Draw a vertical bar chart\n",
    "\n",
    "dataFrame.plot.barh(rot=15,figsize=(15,8), fontsize=12, title=\"During Great Recession - Performance by Piotroski's F-Score\");\n",
    "\n",
    "plt.show(block=True);"
   ]
  },
  {
   "cell_type": "markdown",
   "metadata": {},
   "source": [
    "## In comparison to Piotrosky Screener Performance After the 2008 Great Recession"
   ]
  },
  {
   "cell_type": "code",
   "execution_count": 86,
   "metadata": {},
   "outputs": [],
   "source": [
    "pivoted_PostRecession = pd.pivot_table(DF_PostRecession, index = 'Fscore', values = ['Underperform', 'Outperform' ], aggfunc='sum')\n",
    "pivoted_PostRecession = pd.DataFrame(pivoted_PostRecession.to_records())"
   ]
  },
  {
   "cell_type": "code",
   "execution_count": 87,
   "metadata": {},
   "outputs": [
    {
     "name": "stdout",
     "output_type": "stream",
     "text": [
      "   Fscore  Outperform  Underperform  % Outperformed  % Underperformed\n",
      "0     0.0           5             6            0.45              0.55\n",
      "1     1.0          31            49            0.39              0.61\n",
      "2     2.0         194           266            0.42              0.58\n",
      "3     3.0         607           620            0.49              0.51\n",
      "4     4.0        1326          1303            0.50              0.50\n",
      "5     5.0        1518          1498            0.50              0.50\n",
      "6     6.0        1081           988            0.52              0.48\n",
      "7     7.0         612           688            0.47              0.53\n",
      "8     8.0         211           183            0.54              0.46\n",
      "9     9.0          36            18            0.67              0.33\n"
     ]
    }
   ],
   "source": [
    "table_PostRecession = pivoted_PostRecession\n",
    "table_PostRecession['% Outperformed'] = (table_PostRecession.Outperform / (table_PostRecession.Outperform + table_PostRecession.Underperform)).round(2)\n",
    "table_PostRecession['% Underperformed'] = (table_PostRecession.Underperform / (table_PostRecession.Outperform + table_PostRecession.Underperform)).round(2)\n",
    "print(table_PostRecession)"
   ]
  },
  {
   "cell_type": "markdown",
   "metadata": {},
   "source": [
    "Companies with a Piotrosky F-score of 9 not during a recession, outperformed 67% of the time (1 year return)."
   ]
  },
  {
   "cell_type": "code",
   "execution_count": 88,
   "metadata": {},
   "outputs": [
    {
     "data": {
      "image/png": "[encoded data removed]",
      "text/plain": [
       "<Figure size 1080x576 with 1 Axes>"
      ]
     },
     "metadata": {},
     "output_type": "display_data"
    }
   ],
   "source": [
    "data = {\"Ouperform\":pivoted_PostRecession['Outperform'],\n",
    "\n",
    "        \"Underperform\":pivoted_PostRecession['Underperform']\n",
    "\n",
    "        };\n",
    "\n",
    "index     = pivoted_PostRecession['Fscore'];\n",
    "\n",
    "\n",
    "\n",
    "\n",
    "# Dictionary loaded into a DataFrame       \n",
    "\n",
    "dataFrame = pd.DataFrame(data=data, index=index);\n",
    "\n",
    "# Draw a vertical bar chart\n",
    "\n",
    "dataFrame.plot.barh(rot=15,figsize=(15,8), fontsize=12, title=\"Post Great Recession - Performance by Piotroski's F-Score\");\n",
    "\n",
    "plt.show(block=True);"
   ]
  },
  {
   "cell_type": "markdown",
   "metadata": {},
   "source": [
    "## Piotrosky Screener Performance, During and After a Recession (2007Q4 - 2010Q10)"
   ]
  },
  {
   "cell_type": "code",
   "execution_count": 89,
   "metadata": {},
   "outputs": [],
   "source": [
    "pivoted = pd.pivot_table(DF, index = 'Fscore', values = ['Underperform', 'Outperform' ], aggfunc='sum')\n",
    "pivoted = pd.DataFrame(pivoted.to_records())"
   ]
  },
  {
   "cell_type": "code",
   "execution_count": 90,
   "metadata": {},
   "outputs": [
    {
     "name": "stdout",
     "output_type": "stream",
     "text": [
      "   Fscore  Outperform  Underperform  % Outperformed  % Underperformed\n",
      "0     0.0           8             9            0.47              0.53\n",
      "1     1.0          75           102            0.42              0.58\n",
      "2     2.0         384           458            0.46              0.54\n",
      "3     3.0        1146          1162            0.50              0.50\n",
      "4     4.0        2527          2532            0.50              0.50\n",
      "5     5.0        3024          2951            0.51              0.49\n",
      "6     6.0        2522          2412            0.51              0.49\n",
      "7     7.0        1462          1562            0.48              0.52\n",
      "8     8.0         495           496            0.50              0.50\n",
      "9     9.0         115            73            0.61              0.39\n"
     ]
    }
   ],
   "source": [
    "table = pivoted\n",
    "table['% Outperformed'] = (table.Outperform / (table.Outperform + table.Underperform)).round(2)\n",
    "table['% Underperformed'] = (table.Underperform / (table.Outperform + table.Underperform)).round(2)\n",
    "print(table)"
   ]
  },
  {
   "cell_type": "markdown",
   "metadata": {},
   "source": [
    "Companies with a Piotrosky F-score of 9 through all quarters of the training dataset, outperformed 61% of the time (1 year return)."
   ]
  },
  {
   "cell_type": "code",
   "execution_count": 91,
   "metadata": {},
   "outputs": [
    {
     "data": {
      "image/png": "[encoded data removed]",
      "text/plain": [
       "<Figure size 1080x576 with 1 Axes>"
      ]
     },
     "metadata": {},
     "output_type": "display_data"
    }
   ],
   "source": [
    "data = {\"Ouperform\":pivoted['Outperform'],\n",
    "\n",
    "        \"Underperform\":pivoted['Underperform']\n",
    "\n",
    "        };\n",
    "\n",
    "index     = pivoted['Fscore'];\n",
    "\n",
    "\n",
    "\n",
    "\n",
    "# Dictionary loaded into a DataFrame       \n",
    "\n",
    "dataFrame = pd.DataFrame(data=data, index=index);\n",
    "\n",
    "# Draw a vertical bar chart\n",
    "\n",
    "dataFrame.plot.barh(rot=15,figsize=(15,8), fontsize=12, title=\"Performance by Piotroski's F-Score ()\");\n",
    "\n",
    "plt.show(block=True);"
   ]
  },
  {
   "cell_type": "code",
   "execution_count": 92,
   "metadata": {},
   "outputs": [
    {
     "data": {
      "text/plain": [
       "'C:\\\\Desired Saved Directory\\\\ClassifierReady'"
      ]
     },
     "execution_count": 92,
     "metadata": {},
     "output_type": "execute_result"
    }
   ],
   "source": [
    "os.chdir(r\"C:\\Desired Saved Directory\\Model_V5\\FullTrainingSet\\ClassifierReady\") \n",
    "cwd = os.getcwd()\n",
    "cwd"
   ]
  },
  {
   "cell_type": "code",
   "execution_count": 93,
   "metadata": {},
   "outputs": [],
   "source": [
    "writer1 = ExcelWriter('PiotroskyTraining_ClassifierReady.xlsx')\n",
    "DF.to_excel(writer1,'Sheet1')\n",
    "writer1.save()"
   ]
  }
 ],
 "metadata": {
  "kernelspec": {
   "display_name": "Python 3",
   "language": "python",
   "name": "python3"
  },
  "language_info": {
   "codemirror_mode": {
    "name": "ipython",
    "version": 3
   },
   "file_extension": ".py",
   "mimetype": "text/x-python",
   "name": "python",
   "nbconvert_exporter": "python",
   "pygments_lexer": "ipython3",
   "version": "3.7.1"
  }
 },
 "nbformat": 4,
 "nbformat_minor": 2
}
